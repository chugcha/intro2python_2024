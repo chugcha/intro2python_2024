{
  "cells": [
    {
      "cell_type": "markdown",
      "source": [
        "# Семинар 4"
      ],
      "metadata": {
        "id": "gnEIbz8zPpOZ"
      }
    },
    {
      "cell_type": "markdown",
      "source": [
        "## Глава минус первая: что было в прошлом модуле?\n",
        "1. ввод и вывод\n",
        "2. арифметика\n",
        "3. немного строк\n",
        "4. условия (`if`, `elif`, `else`)\n",
        "5. циклы (`for`, `while`)"
      ],
      "metadata": {
        "id": "ocbsHdSYKRY8"
      }
    },
    {
      "cell_type": "markdown",
      "source": [
        "## Глава нулевая: встроенные типы данных в Python"
      ],
      "metadata": {
        "id": "_3dn0-YhgQjo"
      }
    },
    {
      "cell_type": "markdown",
      "metadata": {
        "id": "hK_p1-ZYH6ZF"
      },
      "source": [
        "- изменяемые (`list`, `dict`, `set`)\n",
        "- неизменяемые (`tuple`, `float`, `int`, `string`, `bool`)"
      ]
    },
    {
      "cell_type": "code",
      "execution_count": 97,
      "metadata": {
        "id": "CUufKp0sH6ZF",
        "colab": {
          "base_uri": "https://localhost:8080/"
        },
        "outputId": "989b5abe-b08c-49c0-bd4d-0a80eb454aa0"
      },
      "outputs": [
        {
          "output_type": "stream",
          "name": "stdout",
          "text": [
            "True 138592820354544 138592820354544\n",
            "False 138592820354544 138592821024048\n"
          ]
        }
      ],
      "source": [
        "x = 'Hello'\n",
        "y = x\n",
        "print(id(x) == id(y), id(x), id(y))  # правда, пока строчка / число достаточно малеькие\n",
        "\n",
        "y += '!'\n",
        "print(id(x) == id(y), id(x), id(y))"
      ]
    },
    {
      "cell_type": "markdown",
      "metadata": {
        "id": "NU8Bq-ADH6ZF"
      },
      "source": [
        "## Глава первая: списки (`list`)"
      ]
    },
    {
      "cell_type": "markdown",
      "source": [
        "> *Упорядоченные **изменяемые** коллекции объектов **произвольных типов**, печатающиеся через запятую в квадратных скобках*.\n",
        "\n",
        "(Если вы когда-то программировали на каком-либо другом языке, скорее всего, в нем есть массивы или, например, векторы, как в C++.)"
      ],
      "metadata": {
        "id": "vAb4i74OLE9T"
      }
    },
    {
      "cell_type": "markdown",
      "source": [
        "### Создание списка\n",
        "\n",
        "Чтобы использовать списки, их нужно сначала создать. Создать список можно несколькими способами:\n",
        "\n",
        "1. Можно обработать любой итерируемый (по которому можно пробежаться, используя цикл `for`) объект (например, строку) встроенной функцией `list()`."
      ],
      "metadata": {
        "id": "bysYhUOmPjZS"
      }
    },
    {
      "cell_type": "code",
      "source": [
        "list('лингвистика - топ')"
      ],
      "metadata": {
        "colab": {
          "base_uri": "https://localhost:8080/"
        },
        "id": "ztx1YKdUiKzq",
        "outputId": "f8f032e7-66d8-4903-c896-b6a7943d2cf4"
      },
      "execution_count": 11,
      "outputs": [
        {
          "output_type": "execute_result",
          "data": {
            "text/plain": [
              "['л',\n",
              " 'и',\n",
              " 'н',\n",
              " 'г',\n",
              " 'в',\n",
              " 'и',\n",
              " 'с',\n",
              " 'т',\n",
              " 'и',\n",
              " 'к',\n",
              " 'а',\n",
              " ' ',\n",
              " '-',\n",
              " ' ',\n",
              " 'т',\n",
              " 'о',\n",
              " 'п']"
            ]
          },
          "metadata": {},
          "execution_count": 11
        }
      ]
    },
    {
      "cell_type": "markdown",
      "source": [
        "2. Можно создать пустые списки при помощи `list()` или встроенного литерала `[]`.<br>На самом деле, [лучше](https://habr.com/ru/articles/671602/) пользоваться последним `[]`."
      ],
      "metadata": {
        "id": "dMunoh3OMCe6"
      }
    },
    {
      "cell_type": "code",
      "execution_count": 12,
      "metadata": {
        "id": "OEy7R5EVH6ZG",
        "colab": {
          "base_uri": "https://localhost:8080/"
        },
        "outputId": "91491254-bffb-4619-d46c-3ad4f94b751d"
      },
      "outputs": [
        {
          "output_type": "stream",
          "name": "stdout",
          "text": [
            "[] []\n"
          ]
        }
      ],
      "source": [
        "list_one = []\n",
        "list_two = list()\n",
        "\n",
        "print(list_one, list_two)"
      ]
    },
    {
      "cell_type": "markdown",
      "metadata": {
        "id": "RX2UHQGVH6ZG"
      },
      "source": [
        "3. Можно создавать непустые списки руками."
      ]
    },
    {
      "cell_type": "code",
      "source": [
        "guests = ['Вася', 'Татуся', 'Пётр Яковлевич', 'мама']  # список строк\n",
        "digits = [1, 2, 3, 4, 5, 6, 7, 8, 9]  # список чисел\n",
        "mixed_list = ['Вася', 45, True]  # в одном списке могут храниться элементы разных типов\n",
        "matrix = [[1, 2, 3], [4, 5, 6], [7, 8, 9]]  # список списков\n",
        "super_mixed_list = [1, 2.0, '3, 4, 5', [6, 7, [8]]]  # список списков с разными типами данных"
      ],
      "metadata": {
        "id": "5In3I_aVjkTM"
      },
      "execution_count": 14,
      "outputs": []
    },
    {
      "cell_type": "markdown",
      "metadata": {
        "id": "EqctdupRH6ZG"
      },
      "source": [
        "4. Можно создавать непустые списки при помощи **генераторов списков**.\n",
        "\n",
        "```python\n",
        "[{элемент или действие с ним} for {элемент} in {последовательность}]\n",
        "```\n"
      ]
    },
    {
      "cell_type": "code",
      "execution_count": 15,
      "metadata": {
        "id": "AW6CYI-kH6ZK",
        "colab": {
          "base_uri": "https://localhost:8080/"
        },
        "outputId": "612f0f20-b915-439c-af0b-08af0bdd146e"
      },
      "outputs": [
        {
          "output_type": "stream",
          "name": "stdout",
          "text": [
            "[0, 1, 2, 3, 4, 5, 6, 7, 8, 9]\n",
            "\n",
            "[1, 2, 4, 8, 16, 32, 64, 128, 256, 512]\n"
          ]
        }
      ],
      "source": [
        "list_three = [i for i in range(0, 10)]\n",
        "list_four = [2 ** i for i in range(0, 10)]\n",
        "\n",
        "print(list_three, list_four, sep='\\n\\n')"
      ]
    },
    {
      "cell_type": "markdown",
      "source": [
        "5. Можно создать новый список сложением старых\n"
      ],
      "metadata": {
        "id": "UVMbSJ79t6rc"
      }
    },
    {
      "cell_type": "code",
      "source": [
        "sweet = ['конфета', 'шоколадка']\n",
        "salty = ['крекер', 'сухарик']\n",
        "basket = sweet + salty\n",
        "print(basket)"
      ],
      "metadata": {
        "colab": {
          "base_uri": "https://localhost:8080/"
        },
        "id": "6xBXe2o-t5pQ",
        "outputId": "5bc10871-988e-4531-8b11-d311263ce02a"
      },
      "execution_count": 58,
      "outputs": [
        {
          "output_type": "stream",
          "name": "stdout",
          "text": [
            "['конфета', 'шоколадка', 'крекер', 'сухарик']\n"
          ]
        }
      ]
    },
    {
      "cell_type": "markdown",
      "metadata": {
        "id": "5gG2OpNSH6ZK"
      },
      "source": [
        "### Индексы"
      ]
    },
    {
      "cell_type": "markdown",
      "source": [
        "- У каждого элемента списка есть свой индекс.\n",
        "- **ИНДЕКСАЦИЯ С НУЛЯ!!**\n",
        "- К элементам списка можно обращаться по их индексам."
      ],
      "metadata": {
        "id": "Nqcz08uGkZ0o"
      }
    },
    {
      "cell_type": "code",
      "source": [
        "list_of_wishes = ['iPhone', 'MacBook', 'Свитшот']\n",
        "\n",
        "print(list_of_wishes[1])"
      ],
      "metadata": {
        "colab": {
          "base_uri": "https://localhost:8080/"
        },
        "id": "d1uVzT1ZkugW",
        "outputId": "140d3231-25af-44e1-9e4b-e5f7bb5161b4"
      },
      "execution_count": 16,
      "outputs": [
        {
          "output_type": "stream",
          "name": "stdout",
          "text": [
            "MacBook\n"
          ]
        }
      ]
    },
    {
      "cell_type": "code",
      "execution_count": 20,
      "metadata": {
        "id": "PBfhX4sbH6ZK",
        "colab": {
          "base_uri": "https://localhost:8080/"
        },
        "outputId": "428636a2-98d3-47ec-c32b-c09a34d3626b"
      },
      "outputs": [
        {
          "output_type": "stream",
          "name": "stdout",
          "text": [
            "[6, 7, [8]]\n",
            "[8]\n",
            "8\n"
          ]
        }
      ],
      "source": [
        "super_mixed_list = [1, 2.0, '3, 4, 5', [6, 7, [8]]]\n",
        "\n",
        "print(super_mixed_list[3])\n",
        "print(super_mixed_list[3][2])\n",
        "print(super_mixed_list[3][2][0])"
      ]
    },
    {
      "cell_type": "markdown",
      "source": [
        "- Можно посмотреть длину списка при помощи `len()`"
      ],
      "metadata": {
        "id": "_hZ8YFJQoays"
      }
    },
    {
      "cell_type": "code",
      "source": [
        "super_mixed_list = [1, 2.0, '3, 4, 5', [6, 7, [8]]]\n",
        "\n",
        "print(len(super_mixed_list))"
      ],
      "metadata": {
        "colab": {
          "base_uri": "https://localhost:8080/"
        },
        "id": "P-KdNDB0oZh6",
        "outputId": "3fe4e1f0-0ae6-465e-81ea-5ad33c8269e9"
      },
      "execution_count": 36,
      "outputs": [
        {
          "output_type": "stream",
          "name": "stdout",
          "text": [
            "4\n"
          ]
        }
      ]
    },
    {
      "cell_type": "markdown",
      "metadata": {
        "id": "Tla7WZqrH6ZK"
      },
      "source": [
        "- Если хочется получить самый последний элемент списка, то не придется считать сколько там всего элементов, можно использовать индекс `-1`: шорткат для `len(list) - 1`. Аналогично `-2` - это предпоследний элемент и т.д."
      ]
    },
    {
      "cell_type": "code",
      "execution_count": 25,
      "metadata": {
        "id": "1DulG-qJH6ZK",
        "colab": {
          "base_uri": "https://localhost:8080/"
        },
        "outputId": "1c1f71ed-80fc-4461-cba4-e73b40045c31"
      },
      "outputs": [
        {
          "output_type": "stream",
          "name": "stdout",
          "text": [
            "Свитшот\n",
            "MacBook\n"
          ]
        }
      ],
      "source": [
        "list_of_wishes = ['iPhone', 'MacBook', 'Свитшот']\n",
        "\n",
        "print(list_of_wishes[-1])\n",
        "print(list_of_wishes[-2])"
      ]
    },
    {
      "cell_type": "markdown",
      "source": [
        "- К элементам строки тоже можно обращаться по их индексам!"
      ],
      "metadata": {
        "id": "bdfgLUe2liKe"
      }
    },
    {
      "cell_type": "markdown",
      "source": [
        "### Срезы"
      ],
      "metadata": {
        "id": "Tsh_zJbbmFQg"
      }
    },
    {
      "cell_type": "markdown",
      "source": [
        "Если нужно выделить из списка / строки не один элемент, а сразу несколько, то нужно использовать срезы.\n",
        "\n",
        "Как это выглядит?\n",
        "\n",
        "```python\n",
        "# {строка}[{начальное значение}:{конечное значение}:{шаг}]\n",
        "\n",
        "list[start:stop:step]\n",
        "```\n",
        "Пример:"
      ],
      "metadata": {
        "id": "01nbIeGJmJ-V"
      }
    },
    {
      "cell_type": "code",
      "execution_count": 28,
      "metadata": {
        "id": "IbrU7FDcH6ZK",
        "colab": {
          "base_uri": "https://localhost:8080/"
        },
        "outputId": "98134749-c7ba-4727-ab6b-16b493d92c7d"
      },
      "outputs": [
        {
          "output_type": "stream",
          "name": "stdout",
          "text": [
            "тудент\n"
          ]
        }
      ],
      "source": [
        "list_of_chars = 'студент'\n",
        "\n",
        "print(list_of_chars[1:]) # взять все символы имени, кроме первого"
      ]
    },
    {
      "cell_type": "code",
      "execution_count": 29,
      "metadata": {
        "id": "dCB64bIuH6ZK",
        "colab": {
          "base_uri": "https://localhost:8080/"
        },
        "outputId": "827646ce-2e88-42ee-cc8a-fe4820bd5d10"
      },
      "outputs": [
        {
          "output_type": "stream",
          "name": "stdout",
          "text": [
            "cegikmo\n"
          ]
        }
      ],
      "source": [
        "letters = 'abcdefghijklmnopqrstuvwxyz'\n",
        "\n",
        "print(letters[2:15:2])  # взять символы с 2 по 15 (не включительно) с шагом в 2"
      ]
    },
    {
      "cell_type": "markdown",
      "source": [
        "В срезах можно значения пропускать.<br>**NB!** Одно значение в срезе до двоеточия $-$ начало. Одно значение в срезе после двоеточия $-$ конец. Два значения в срезе через двоеточие $-$ это начало и конец."
      ],
      "metadata": {
        "id": "YaeHi7jYLZHe"
      }
    },
    {
      "cell_type": "code",
      "source": [
        "print(letters[10:])  # с 10 по конец\n",
        "print(letters[:10])  # с начала до 10 (не включительно)\n",
        "print(letters[5:10])  # с 5 по 10 (не включительно)\n",
        "print(letters[-3:-1])  # с предпредпоследней до последней (не включительно)\n",
        "print(letters[::2])  # с начала до конца с через 1"
      ],
      "metadata": {
        "colab": {
          "base_uri": "https://localhost:8080/"
        },
        "id": "m8oYsyWeTH6N",
        "outputId": "7929fa0c-4e5c-435d-d2c5-899d3603116c"
      },
      "execution_count": 52,
      "outputs": [
        {
          "output_type": "stream",
          "name": "stdout",
          "text": [
            "klmnopqrstuvwxyz\n",
            "abcdefghij\n",
            "fghij\n",
            "xy\n",
            "acegikmoqsuwy\n"
          ]
        }
      ]
    },
    {
      "cell_type": "markdown",
      "source": [
        "**Задание**: Напишите программу, которая будет проверять является ли введённое пользователем слово палиндромом."
      ],
      "metadata": {
        "id": "SypUuZkco6Np"
      }
    },
    {
      "cell_type": "markdown",
      "source": [
        "### Вставка элементов в список"
      ],
      "metadata": {
        "id": "XPHOqrJgnyoP"
      }
    },
    {
      "cell_type": "markdown",
      "source": [
        "Самая частая операция после `[]` (получение элемента списка по индексу) это операция вставки чего-либо в список. Называется она `.append()`.\n",
        "\n",
        "Только `.append()` это **не** отдельная функция, как например `len()`. Это так называемый *метод* списка. Смотрим как это работает:"
      ],
      "metadata": {
        "id": "T5CCoOzPoIym"
      }
    },
    {
      "cell_type": "code",
      "source": [
        "list_of_wishes = []  # cписок моих желаний, когда кто-то спрашивает, что я хочу на ДР\n",
        "list_of_wishes.append('iPhone 15')  # после минутных раздумий\n",
        "print(list_of_wishes)"
      ],
      "metadata": {
        "colab": {
          "base_uri": "https://localhost:8080/"
        },
        "id": "pMBLy7GLnFR1",
        "outputId": "5d4133c9-7f5f-471c-84cd-a46598bbdeae"
      },
      "execution_count": 37,
      "outputs": [
        {
          "output_type": "stream",
          "name": "stdout",
          "text": [
            "['iPhone 15']\n"
          ]
        }
      ]
    },
    {
      "cell_type": "markdown",
      "source": [
        "### Другие методы списка"
      ],
      "metadata": {
        "id": "0hXJ4InrpRwf"
      }
    },
    {
      "cell_type": "markdown",
      "source": [
        "- Можно развернуть список через `.reverse()`:"
      ],
      "metadata": {
        "id": "a6w4FijKLj-l"
      }
    },
    {
      "cell_type": "code",
      "source": [
        "list_four = [2 ** i for i in range(0, 10)]\n",
        "\n",
        "list_four.reverse()  # меняет саму переменную!!"
      ],
      "metadata": {
        "id": "x5IJUnqMLjY5"
      },
      "execution_count": 40,
      "outputs": []
    },
    {
      "cell_type": "code",
      "source": [
        "list_four"
      ],
      "metadata": {
        "id": "wzuW59ykLgw4",
        "colab": {
          "base_uri": "https://localhost:8080/"
        },
        "outputId": "1a04cef9-8aed-4627-ecb4-0b3925c71d98"
      },
      "execution_count": 41,
      "outputs": [
        {
          "output_type": "execute_result",
          "data": {
            "text/plain": [
              "[512, 256, 128, 64, 32, 16, 8, 4, 2, 1]"
            ]
          },
          "metadata": {},
          "execution_count": 41
        }
      ]
    },
    {
      "cell_type": "markdown",
      "source": [
        "- Можно сортировать список при помощи `.sort()`:\n",
        "    * по возрастанию (дефолтно)\n",
        "    * по убыванию (при помощи аргумента `reverse=True`)\n",
        "    * еще как-то (задав функцию)"
      ],
      "metadata": {
        "id": "yILOcJHKM0y9"
      }
    },
    {
      "cell_type": "code",
      "source": [
        "list_five = [-1, 100, 34, 1, 45, -132]\n",
        "list_five.sort()\n",
        "print(list_five)\n",
        "list_five.sort(reverse=True)\n",
        "print(list_five)"
      ],
      "metadata": {
        "colab": {
          "base_uri": "https://localhost:8080/"
        },
        "id": "1csWtjpdMz6L",
        "outputId": "1bd96616-01d2-4a7a-d6f2-7a4511d5e6b1"
      },
      "execution_count": 44,
      "outputs": [
        {
          "output_type": "stream",
          "name": "stdout",
          "text": [
            "[-132, -1, 1, 34, 45, 100]\n",
            "[100, 45, 34, 1, -1, -132]\n"
          ]
        }
      ]
    },
    {
      "cell_type": "markdown",
      "source": [
        "Можно добавлять в конец элементы из переданного списка при помощи `.extend(list)`."
      ],
      "metadata": {
        "id": "xlPLXys7MzCj"
      }
    },
    {
      "cell_type": "code",
      "source": [
        "list_of_wishes = []  # cписок моих желаний, когда кто-то спрашивает, что я хочу на ДР\n",
        "list_of_wishes.append('iPhone 15')  # после минутных раздумий\n",
        "print(list_of_wishes)"
      ],
      "metadata": {
        "colab": {
          "base_uri": "https://localhost:8080/"
        },
        "id": "M0VNaXQlMypl",
        "outputId": "7728d717-2760-4309-916b-436d182ba888"
      },
      "execution_count": 49,
      "outputs": [
        {
          "output_type": "stream",
          "name": "stdout",
          "text": [
            "['iPhone 15']\n"
          ]
        }
      ]
    },
    {
      "cell_type": "code",
      "source": [
        "list_of_wishes.extend(['MacBook', 'Свитшот'])  # аналогично можно написать list_of_wishes += ['MacBook', 'Свитшот']\n",
        "print(list_of_wishes)"
      ],
      "metadata": {
        "colab": {
          "base_uri": "https://localhost:8080/"
        },
        "id": "a4-XpoIdqNRw",
        "outputId": "b8e4015e-8873-44d0-c4c7-49e88a069e12"
      },
      "execution_count": 50,
      "outputs": [
        {
          "output_type": "stream",
          "name": "stdout",
          "text": [
            "['iPhone 15', 'MacBook', 'Свитшот']\n"
          ]
        }
      ]
    },
    {
      "cell_type": "markdown",
      "source": [
        "А тут мы забыли и... что-то пошло не так..."
      ],
      "metadata": {
        "id": "tYcGZN4kr2qX"
      }
    },
    {
      "cell_type": "code",
      "source": [
        "list_of_wishes.extend('Угощение')\n",
        "print(list_of_wishes)"
      ],
      "metadata": {
        "id": "kS_YQjmYFVgA",
        "colab": {
          "base_uri": "https://localhost:8080/"
        },
        "outputId": "f4889e3c-8c8b-485b-dbf2-59e6303b9404"
      },
      "execution_count": 53,
      "outputs": [
        {
          "output_type": "stream",
          "name": "stdout",
          "text": [
            "['iPhone 15', 'MacBook', 'Свитшот', 'У', 'г', 'о', 'щ', 'е', 'н', 'и', 'е']\n"
          ]
        }
      ]
    },
    {
      "cell_type": "markdown",
      "source": [
        "Можно еще немного [разного](https://docs.python.org/3/tutorial/datastructures.html#more-on-lists), например:\n",
        "* `.remove(x)` $-$ удаляет х (**НЕ!** х-овый элемент)\n",
        "* `.pop([i])` $-$ удаляет i-тый элемент и возвращает его на экран / в переменную (дефолтно удаляет последний)\n",
        "* `.clear()` $-$ удаляет весь список целиком"
      ],
      "metadata": {
        "id": "osYK0cPvO4Bm"
      }
    },
    {
      "cell_type": "code",
      "source": [
        "element = list_of_wishes.pop(3)\n",
        "print(list_of_wishes, element, sep='\\n')\n",
        "element = list_of_wishes.pop()\n",
        "print(list_of_wishes, element, sep='\\n')"
      ],
      "metadata": {
        "colab": {
          "base_uri": "https://localhost:8080/"
        },
        "id": "-s88weX6O3kB",
        "outputId": "4ac40e98-085f-43c3-f3db-e6f89cda40ed"
      },
      "execution_count": 55,
      "outputs": [
        {
          "output_type": "stream",
          "name": "stdout",
          "text": [
            "['iPhone 15', 'MacBook', 'Свитшот', 'о', 'щ', 'е', 'н', 'и', 'е']\n",
            "г\n",
            "['iPhone 15', 'MacBook', 'Свитшот', 'о', 'щ', 'е', 'н', 'и']\n",
            "е\n"
          ]
        }
      ]
    },
    {
      "cell_type": "markdown",
      "source": [
        "* `.insert(where, what)` $-$ вставляет `what` на место `where`"
      ],
      "metadata": {
        "id": "hjFEmhOxtn72"
      }
    },
    {
      "cell_type": "code",
      "source": [
        "list_of_wishes = list_of_wishes[:3]\n",
        "print(list_of_wishes)\n",
        "list_of_wishes.insert(1, 'Угощение')\n",
        "print(list_of_wishes)"
      ],
      "metadata": {
        "colab": {
          "base_uri": "https://localhost:8080/"
        },
        "id": "2bAbe-irs21D",
        "outputId": "e32900b7-8d34-438f-f1d4-929c9dc189a3"
      },
      "execution_count": 56,
      "outputs": [
        {
          "output_type": "stream",
          "name": "stdout",
          "text": [
            "['iPhone 15', 'MacBook', 'Свитшот']\n",
            "['iPhone 15', 'Угощение', 'MacBook', 'Свитшот']\n"
          ]
        }
      ]
    },
    {
      "cell_type": "markdown",
      "source": [
        "* `.count()` $-$ считает количество вхождений элемента в список"
      ],
      "metadata": {
        "id": "XHzsBKmnRxJj"
      }
    },
    {
      "cell_type": "code",
      "source": [
        "comparative_linguistics = list('лингвистика-компаративистика')\n",
        "comparative_linguistics.count('и')"
      ],
      "metadata": {
        "id": "44AUfdgiP61P",
        "colab": {
          "base_uri": "https://localhost:8080/"
        },
        "outputId": "da6afa87-df47-41e3-8de8-2edabcf9e505"
      },
      "execution_count": 57,
      "outputs": [
        {
          "output_type": "execute_result",
          "data": {
            "text/plain": [
              "6"
            ]
          },
          "metadata": {},
          "execution_count": 57
        }
      ]
    },
    {
      "cell_type": "markdown",
      "source": [
        "### `.join()`"
      ],
      "metadata": {
        "id": "pY9tFWtlvHNR"
      }
    },
    {
      "cell_type": "markdown",
      "source": [
        "Есть прекрасный метод строк `.join()`, он позволяет соединять объекты чего-нибудь итерируемого **строкового** в строку с определённым разделителем (\n",
        "`.join()` обратен `.split()`). Синтаксис следующий:\n",
        "\n",
        "\n",
        "```\n",
        "{разделитель}.join({итерируемое})\n",
        "```\n"
      ],
      "metadata": {
        "id": "riYUWQPlvQO2"
      }
    },
    {
      "cell_type": "code",
      "source": [
        "# задача напечатать на новых строчках слова, которые пользователь ввёл через пробел\n",
        "user_input = 'молоко хлеб шоколадка'\n",
        "items = user_input.split()\n",
        "\n",
        "print('\\n'.join(items))"
      ],
      "metadata": {
        "colab": {
          "base_uri": "https://localhost:8080/"
        },
        "id": "SWBMO4BVvR6j",
        "outputId": "965e4263-97f1-4201-9d3c-9183e140b64a"
      },
      "execution_count": 63,
      "outputs": [
        {
          "output_type": "stream",
          "name": "stdout",
          "text": [
            "молоко\n",
            "хлеб\n",
            "шоколадка\n"
          ]
        }
      ]
    },
    {
      "cell_type": "code",
      "source": [
        "list_five = [-1, 100, 34, 1, 45, -132]\n",
        "\n",
        "# print(' '.join(list_five)) - просто так не сработает))00)\n",
        "\n",
        "\n",
        "list_five = map(str, list_five)\n",
        "print(' '.join(list_five))"
      ],
      "metadata": {
        "colab": {
          "base_uri": "https://localhost:8080/"
        },
        "id": "zTiilvxmvoJm",
        "outputId": "845e1b70-0e62-4dca-b00b-3b55e995baa2"
      },
      "execution_count": 65,
      "outputs": [
        {
          "output_type": "stream",
          "name": "stdout",
          "text": [
            "-1 100 34 1 45 -132\n"
          ]
        }
      ]
    },
    {
      "cell_type": "markdown",
      "source": [
        "### Еще немного про не_изменяемость"
      ],
      "metadata": {
        "id": "ss-cY5uGxO0T"
      }
    },
    {
      "cell_type": "markdown",
      "source": [
        "Список изменяемый, можно даже присвоить срезу:"
      ],
      "metadata": {
        "id": "IfquniT1xWDH"
      }
    },
    {
      "cell_type": "code",
      "source": [
        "list_six = [1, 2, 3]\n",
        "\n",
        "list_six[0] = 0\n",
        "print(list_six)\n",
        "\n",
        "list_six[:2] = [5, 6]\n",
        "print(list_six)"
      ],
      "metadata": {
        "colab": {
          "base_uri": "https://localhost:8080/"
        },
        "id": "EltSG9dEw3g3",
        "outputId": "96a67d3f-c796-49bc-9cfa-d56c02aba688"
      },
      "execution_count": 90,
      "outputs": [
        {
          "output_type": "stream",
          "name": "stdout",
          "text": [
            "[0, 2, 3]\n",
            "[5, 6, 3]\n"
          ]
        }
      ]
    },
    {
      "cell_type": "markdown",
      "source": [
        "Но вот так копировать плохо!"
      ],
      "metadata": {
        "id": "crHbo2kxxihr"
      }
    },
    {
      "cell_type": "code",
      "source": [
        "list_six = [1, 2, 3]\n",
        "list_seven = list_six"
      ],
      "metadata": {
        "id": "yXbKV9cwxoPY"
      },
      "execution_count": 93,
      "outputs": []
    },
    {
      "cell_type": "markdown",
      "source": [
        "Почему? А вот почему..."
      ],
      "metadata": {
        "id": "M8PDDFRRxqmC"
      }
    },
    {
      "cell_type": "code",
      "source": [
        "list_six[0] = 0\n",
        "\n",
        "print(list_six, id(list_six))  # ячейки памяти одинаковые\n",
        "print(list_seven, id(list_seven))"
      ],
      "metadata": {
        "colab": {
          "base_uri": "https://localhost:8080/"
        },
        "id": "AVJlZlWDw9XE",
        "outputId": "2cc063b9-e6f7-4bad-d1cc-d0ad74901976"
      },
      "execution_count": 94,
      "outputs": [
        {
          "output_type": "stream",
          "name": "stdout",
          "text": [
            "[0, 2, 3] 138592849401216\n",
            "[0, 2, 3] 138592849401216\n"
          ]
        }
      ]
    },
    {
      "cell_type": "markdown",
      "source": [
        "Но копировать можно так, потому что срез создает новый массив:"
      ],
      "metadata": {
        "id": "NoHwD6-Yx3gp"
      }
    },
    {
      "cell_type": "code",
      "source": [
        "list_six = [1, 2, 3]\n",
        "list_seven = list_six[:]\n",
        "\n",
        "list_six[0] = 0\n",
        "\n",
        "print(list_six, id(list_six))  # ячейки памяти разные\n",
        "print(list_seven, id(list_seven))"
      ],
      "metadata": {
        "id": "ux-_6rkOxBX8",
        "outputId": "d623a97d-1778-4e32-a702-a1f9aabb1197",
        "colab": {
          "base_uri": "https://localhost:8080/"
        }
      },
      "execution_count": 95,
      "outputs": [
        {
          "output_type": "stream",
          "name": "stdout",
          "text": [
            "[0, 2, 3] 138592819952640\n",
            "[1, 2, 3] 138592820084352\n"
          ]
        }
      ]
    },
    {
      "cell_type": "markdown",
      "source": [
        "Или так:"
      ],
      "metadata": {
        "id": "d1bOeV9zzJss"
      }
    },
    {
      "cell_type": "code",
      "source": [
        "list_six = [1, 2, 3]\n",
        "list_seven = list_six.copy()\n",
        "list_six[0] = 0\n",
        "\n",
        "print(list_six, id(list_six))  # ячейки памяти разные\n",
        "print(list_seven, id(list_seven))"
      ],
      "metadata": {
        "colab": {
          "base_uri": "https://localhost:8080/"
        },
        "id": "QFYUfelxzC6M",
        "outputId": "fe98c92f-8574-4d84-914a-937827be1c4e"
      },
      "execution_count": 101,
      "outputs": [
        {
          "output_type": "stream",
          "name": "stdout",
          "text": [
            "[0, 2, 3] 138592820071424\n",
            "[1, 2, 3] 138592831400832\n"
          ]
        }
      ]
    },
    {
      "cell_type": "markdown",
      "source": [
        "Или даже так:"
      ],
      "metadata": {
        "id": "kreEeed3zUvL"
      }
    },
    {
      "cell_type": "code",
      "source": [
        "from copy import deepcopy\n",
        "\n",
        "list_six = [1, 2, 3]\n",
        "list_seven = deepcopy(list_six)  # самый надежный спаособ для вложенных списков\n",
        "\n",
        "list_six[0] = 0\n",
        "\n",
        "print(list_six, id(list_six))  # ячейки памяти разные\n",
        "print(list_seven, id(list_seven))"
      ],
      "metadata": {
        "colab": {
          "base_uri": "https://localhost:8080/"
        },
        "id": "UgQtiYm-zUM5",
        "outputId": "4eb887f4-f407-4a7e-bcc8-110ccdd12c7b"
      },
      "execution_count": 103,
      "outputs": [
        {
          "output_type": "stream",
          "name": "stdout",
          "text": [
            "[0, 2, 3] 138593442366144\n",
            "[1, 2, 3] 138593709691712\n"
          ]
        }
      ]
    },
    {
      "cell_type": "markdown",
      "metadata": {
        "id": "Q0vyhIlAH6ZK"
      },
      "source": [
        "### Циклы и списки"
      ]
    },
    {
      "cell_type": "code",
      "execution_count": 62,
      "metadata": {
        "id": "4i81tJMUH6ZL",
        "colab": {
          "base_uri": "https://localhost:8080/"
        },
        "outputId": "391f097d-5471-4bc6-da63-d761c97fa072"
      },
      "outputs": [
        {
          "output_type": "stream",
          "name": "stdout",
          "text": [
            "1 5 3 8 2 -1 0\n",
            "1.5.3.8.2.-1.0\n",
            "1 5 3 8 2 -1 0 \n",
            "1 5 3 8 2 -1 0 \n"
          ]
        }
      ],
      "source": [
        "# выводить список красиво можно разными способами\n",
        "\n",
        "numbers = [1, 5, 3, 8, 2, -1, 0]\n",
        "\n",
        "print(*numbers)\n",
        "print(*numbers, sep=\".\")\n",
        "\n",
        "# for i in range(6) 0 1 2 3 4 5\n",
        "for i in range(len(numbers)):  # [0 1 ... len(numbers) - 1]\n",
        "    print(numbers[i], end=\" \")\n",
        "print()\n",
        "\n",
        "\n",
        "# по списку можно итерироваться с помощью цикла for (так же, как и по строке).\n",
        "for elem in numbers:\n",
        "    print(elem, end=\" \")\n",
        "print()  # пустой принт на самом деле выводит специальный символ \\n -- символ перевода строки"
      ]
    },
    {
      "cell_type": "code",
      "source": [
        "# вот код, который бы печатал все элементы в списке вместе с их индексами\n",
        "\n",
        "list_of_items = ['cat', 'dog', 'spam', 'eggs', 'python']\n",
        "\n",
        "for index_of_item in range(len(list_of_items) - 1):\n",
        "    print(index_of_item, list_of_items[index_of_item])"
      ],
      "metadata": {
        "colab": {
          "base_uri": "https://localhost:8080/"
        },
        "id": "_m4bjZ2ofGPB",
        "outputId": "66042841-98f0-4f55-f797-cb7d4b24086d"
      },
      "execution_count": 67,
      "outputs": [
        {
          "output_type": "stream",
          "name": "stdout",
          "text": [
            "0 cat\n",
            "1 dog\n",
            "2 spam\n",
            "3 eggs\n"
          ]
        }
      ]
    },
    {
      "cell_type": "code",
      "source": [
        "# но лучше (экономнее) так\n",
        "\n",
        "for index, item in enumerate(list_of_items):\n",
        "    print(index, item)"
      ],
      "metadata": {
        "colab": {
          "base_uri": "https://localhost:8080/"
        },
        "id": "Lf0fNsvPfUbw",
        "outputId": "c77f58e7-0950-430a-875b-bfc3ac94b9b9"
      },
      "execution_count": 69,
      "outputs": [
        {
          "output_type": "stream",
          "name": "stdout",
          "text": [
            "0 cat\n",
            "1 dog\n",
            "2 spam\n",
            "3 eggs\n",
            "4 python\n"
          ]
        }
      ]
    },
    {
      "cell_type": "markdown",
      "source": [
        "Так, погодите, а почему вообще там две переменной в `for`'е..? А что будет, если останется только одна..?"
      ],
      "metadata": {
        "id": "nwKYmRPtfkoo"
      }
    },
    {
      "cell_type": "code",
      "source": [
        "for pair in enumerate(list_of_items):\n",
        "    print(pair)"
      ],
      "metadata": {
        "colab": {
          "base_uri": "https://localhost:8080/"
        },
        "id": "WrpbLU6-YvLy",
        "outputId": "f831db84-34a7-454c-e520-e93f45764d46"
      },
      "execution_count": 70,
      "outputs": [
        {
          "output_type": "stream",
          "name": "stdout",
          "text": [
            "(0, 'cat')\n",
            "(1, 'dog')\n",
            "(2, 'spam')\n",
            "(3, 'eggs')\n",
            "(4, 'python')\n"
          ]
        }
      ]
    },
    {
      "cell_type": "markdown",
      "source": [
        "*Это списки?*<br>*А в чем отличие от списков?*"
      ],
      "metadata": {
        "id": "xvudK_42ZJmk"
      }
    },
    {
      "cell_type": "markdown",
      "source": [
        "## Глава вторая: кортежи (`tuple`)"
      ],
      "metadata": {
        "id": "DzudINjoOChG"
      }
    },
    {
      "cell_type": "markdown",
      "source": [
        "\n",
        "\n",
        "> *__Упорядоченная__ **неизменяемая** коллекция элементов различных типов. (По сути, это просто неизменяемый список!)*\n",
        "\n",
        "А зачем он тогда вообще нужен?\n",
        "\n",
        "1. Защита от всяких шаловливых рук\n",
        "2. Памяти меньше занимает 🙃\n",
        "\n",
        "\n",
        "|bytes|  type   |      scaling notes     |\n",
        "|:---:|:-------:|------------------------|\n",
        "|  48 | `tuple` | +8 per additional item |\n",
        "|  64 | `list`  | +8 for each additional |\n",
        "\n",
        "\n",
        "\n"
      ],
      "metadata": {
        "id": "RJTuFDQlOUcB"
      }
    },
    {
      "cell_type": "code",
      "source": [
        "x = (1, 2, 3, 4, 5, 6)\n",
        "\n",
        "y = [1, 2, 3, 4, 5, 6]\n",
        "\n",
        "print(f'tuple size = {x.__sizeof__()}\\nlist size = {y.__sizeof__()}')"
      ],
      "metadata": {
        "colab": {
          "base_uri": "https://localhost:8080/"
        },
        "id": "oAk0ecVXOAro",
        "outputId": "4bb9bf14-7823-40b2-f513-ee9c02ca28dd"
      },
      "execution_count": 110,
      "outputs": [
        {
          "output_type": "stream",
          "name": "stdout",
          "text": [
            "tuple size = 72\n",
            "list size = 88\n"
          ]
        }
      ]
    },
    {
      "cell_type": "markdown",
      "source": [
        "Как создать?\n",
        "* пустой"
      ],
      "metadata": {
        "id": "iQAPx0tvQ45R"
      }
    },
    {
      "cell_type": "code",
      "source": [
        "first_tuple = tuple()\n",
        "second_tuple = ()"
      ],
      "metadata": {
        "id": "EKoL6aynPGbL"
      },
      "execution_count": 111,
      "outputs": []
    },
    {
      "cell_type": "code",
      "source": [
        "print(first_tuple)"
      ],
      "metadata": {
        "colab": {
          "base_uri": "https://localhost:8080/"
        },
        "id": "luq--8coRBTi",
        "outputId": "7d746a8d-4919-4322-9799-a162beb2ee1b"
      },
      "execution_count": 112,
      "outputs": [
        {
          "output_type": "stream",
          "name": "stdout",
          "text": [
            "()\n"
          ]
        }
      ]
    },
    {
      "cell_type": "markdown",
      "source": [
        "* из списка или строки"
      ],
      "metadata": {
        "id": "vY87ALz2Swd0"
      }
    },
    {
      "cell_type": "code",
      "source": [
        "tuple('bacon and eggs')"
      ],
      "metadata": {
        "colab": {
          "base_uri": "https://localhost:8080/"
        },
        "id": "0PD3WW4LSzKJ",
        "outputId": "9e7ac1b6-dcfd-431c-869a-85e8ea2239b7"
      },
      "execution_count": 113,
      "outputs": [
        {
          "output_type": "execute_result",
          "data": {
            "text/plain": [
              "('b', 'a', 'c', 'o', 'n', ' ', 'a', 'n', 'd', ' ', 'e', 'g', 'g', 's')"
            ]
          },
          "metadata": {},
          "execution_count": 113
        }
      ]
    },
    {
      "cell_type": "code",
      "source": [
        "tuple([1, 2, 3])"
      ],
      "metadata": {
        "colab": {
          "base_uri": "https://localhost:8080/"
        },
        "id": "NTgw8yg0S5UC",
        "outputId": "94838ffe-9061-4e77-fca5-8f1b129aaffd"
      },
      "execution_count": 114,
      "outputs": [
        {
          "output_type": "execute_result",
          "data": {
            "text/plain": [
              "(1, 2, 3)"
            ]
          },
          "metadata": {},
          "execution_count": 114
        }
      ]
    },
    {
      "cell_type": "markdown",
      "source": [
        "* с элементами"
      ],
      "metadata": {
        "id": "RP1ooVi5RYea"
      }
    },
    {
      "cell_type": "code",
      "source": [
        "third_tuple = ('Hello!')"
      ],
      "metadata": {
        "id": "JSHQzZ1CRHQX"
      },
      "execution_count": 115,
      "outputs": []
    },
    {
      "cell_type": "code",
      "source": [
        "third_tuple"
      ],
      "metadata": {
        "colab": {
          "base_uri": "https://localhost:8080/",
          "height": 36
        },
        "id": "J7_y_gJ6RRaW",
        "outputId": "73174a0b-6dec-4a76-f697-168bdb531d08"
      },
      "execution_count": 116,
      "outputs": [
        {
          "output_type": "execute_result",
          "data": {
            "text/plain": [
              "'Hello!'"
            ],
            "application/vnd.google.colaboratory.intrinsic+json": {
              "type": "string"
            }
          },
          "metadata": {},
          "execution_count": 116
        }
      ]
    },
    {
      "cell_type": "markdown",
      "source": [
        "Что-то пошло не так... Нужна запятая!"
      ],
      "metadata": {
        "id": "be47VrQQRabz"
      }
    },
    {
      "cell_type": "code",
      "source": [
        "third_tuple = ('Hello!',)"
      ],
      "metadata": {
        "id": "BCI2IjdIRTML"
      },
      "execution_count": 117,
      "outputs": []
    },
    {
      "cell_type": "code",
      "source": [
        "third_tuple"
      ],
      "metadata": {
        "colab": {
          "base_uri": "https://localhost:8080/"
        },
        "id": "WbhvMYNPReuF",
        "outputId": "1ae4d7d5-74e2-4ee0-ffd1-513680796464"
      },
      "execution_count": 118,
      "outputs": [
        {
          "output_type": "execute_result",
          "data": {
            "text/plain": [
              "('Hello!',)"
            ]
          },
          "metadata": {},
          "execution_count": 118
        }
      ]
    },
    {
      "cell_type": "markdown",
      "source": [
        "А скобки, например, совсем не обязательны!"
      ],
      "metadata": {
        "id": "6wd5pa1dRzLH"
      }
    },
    {
      "cell_type": "code",
      "source": [
        "fourth_tuple = 'Hello',"
      ],
      "metadata": {
        "id": "3FdCAdMeRkMv"
      },
      "execution_count": 119,
      "outputs": []
    },
    {
      "cell_type": "code",
      "source": [
        "fourth_tuple"
      ],
      "metadata": {
        "colab": {
          "base_uri": "https://localhost:8080/"
        },
        "id": "mKgLnjCFRvyf",
        "outputId": "492719e2-02c2-430a-886d-301f243a30b7"
      },
      "execution_count": 120,
      "outputs": [
        {
          "output_type": "execute_result",
          "data": {
            "text/plain": [
              "('Hello',)"
            ]
          },
          "metadata": {},
          "execution_count": 120
        }
      ]
    },
    {
      "cell_type": "code",
      "source": [
        "# Cколько типов переменных в этой строчке?\n",
        "\n",
        "a, b = [[True, 'True'], 1, 1.0][0]"
      ],
      "metadata": {
        "id": "lpnCiIxrRxQZ"
      },
      "execution_count": 121,
      "outputs": []
    },
    {
      "cell_type": "markdown",
      "source": [
        "На самом деле **6**:\n",
        "\n",
        "|  №   |  type   | examples                                      |\n",
        "|:-----|:-------:|-----------------------------------------------|\n",
        "|  1   | `bool` | `True`                                         |\n",
        "|  2   | `str` | `'True'`                                        |\n",
        "|  3   | `int` | `1` и `0`                                       |\n",
        "|  4   | `float` | `1.0`                                         |\n",
        "|  5   | `list`  | `[True, 'True']` и `[[True, 'True'], 1, 1.0]` |\n",
        "|  6   | `tuple` | `a, b`                                        |\n"
      ],
      "metadata": {
        "id": "FylHVKeLTBse"
      }
    },
    {
      "cell_type": "code",
      "source": [
        "a, b = b, a"
      ],
      "metadata": {
        "id": "yk5uOLQWSVvl"
      },
      "execution_count": 122,
      "outputs": []
    },
    {
      "cell_type": "code",
      "source": [
        "a, b"
      ],
      "metadata": {
        "colab": {
          "base_uri": "https://localhost:8080/"
        },
        "id": "Corx9RZGSXye",
        "outputId": "a31f392f-e4ee-4f4f-b0c8-0cedd6135779"
      },
      "execution_count": 123,
      "outputs": [
        {
          "output_type": "execute_result",
          "data": {
            "text/plain": [
              "('True', True)"
            ]
          },
          "metadata": {},
          "execution_count": 123
        }
      ]
    },
    {
      "cell_type": "markdown",
      "source": [
        "А больше ничего с кортежами делать нельзя!\n",
        "\n",
        "На то они и неизменяемые списки!"
      ],
      "metadata": {
        "id": "XVrnFgJ0hSik"
      }
    },
    {
      "cell_type": "code",
      "source": [
        "a_list = [1, 2, 3] # список\n",
        "a_tuple = (1, 2, 3) # кортеж\n",
        "\n",
        "print(id(a_list))\n",
        "print(id(a_tuple))\n",
        "\n",
        "id_list_before = id(a_list)\n",
        "id_tuple_before = id(a_tuple)\n",
        "\n",
        "a_list.extend([3, 4])\n",
        "a_tuple = a_tuple + (3, 4)\n",
        "id_list_after = id(a_list)\n",
        "id_tuple_after = id(a_tuple)\n",
        "\n",
        "print(id_list_after == id_list_before)\n",
        "print(id_tuple_after == id_tuple_before)"
      ],
      "metadata": {
        "id": "91a27W3UxICv",
        "colab": {
          "base_uri": "https://localhost:8080/"
        },
        "outputId": "063fa166-e8b4-42e0-a9c0-d3ff24f44310"
      },
      "execution_count": 124,
      "outputs": [
        {
          "output_type": "stream",
          "name": "stdout",
          "text": [
            "138592820076224\n",
            "138592820023104\n",
            "True\n",
            "False\n"
          ]
        }
      ]
    },
    {
      "cell_type": "markdown",
      "metadata": {
        "id": "mXT7CYByH6ZM"
      },
      "source": [
        "## Глава третья: практика"
      ]
    },
    {
      "cell_type": "markdown",
      "metadata": {
        "id": "-nHxXcJ-XoI6"
      },
      "source": [
        "#### Задача 1.\n",
        "Дан список некоторых целых чисел, найдите значение 20 в нем и, если оно присутствует, замените его на 200. Обновите список только при первом вхождении числа 20."
      ]
    },
    {
      "cell_type": "code",
      "execution_count": 124,
      "metadata": {
        "id": "tkrk2N1-XoI6"
      },
      "outputs": [],
      "source": []
    },
    {
      "cell_type": "markdown",
      "metadata": {
        "id": "TnFG7t2wXoI6"
      },
      "source": [
        "#### Задача 2.\n",
        "Дан список чисел. Выведите значение наибольшего элемента в списке, а затем индекс этого элемента в списке. Если наибольших элементов несколько, выведите индекс первого из них."
      ]
    },
    {
      "cell_type": "code",
      "execution_count": null,
      "metadata": {
        "id": "dYXppWNCXoI6"
      },
      "outputs": [],
      "source": []
    },
    {
      "cell_type": "markdown",
      "metadata": {
        "id": "0B9kFV--XoI6"
      },
      "source": [
        "#### Задача 3.\n",
        "\n",
        "Заполнить список ста нулями, кроме первого и последнего элементов, которые должны быть равны единице."
      ]
    },
    {
      "cell_type": "code",
      "execution_count": null,
      "metadata": {
        "id": "hiyfXk7fXoI7"
      },
      "outputs": [],
      "source": []
    },
    {
      "cell_type": "markdown",
      "metadata": {
        "id": "Y298ejMxH6ZM"
      },
      "source": [
        "#### Задача 4.\n",
        "\n",
        "Сформировать возрастающий список из чётных чисел (количество элементов 45)."
      ]
    },
    {
      "cell_type": "code",
      "execution_count": null,
      "metadata": {
        "id": "TMgi9o6DH6ZN"
      },
      "outputs": [],
      "source": []
    }
  ],
  "metadata": {
    "kernelspec": {
      "display_name": "Python 3 (ipykernel)",
      "language": "python",
      "name": "python3"
    },
    "language_info": {
      "codemirror_mode": {
        "name": "ipython",
        "version": 3
      },
      "file_extension": ".py",
      "mimetype": "text/x-python",
      "name": "python",
      "nbconvert_exporter": "python",
      "pygments_lexer": "ipython3",
      "version": "3.9.13"
    },
    "vscode": {
      "interpreter": {
        "hash": "b0fa6594d8f4cbf19f97940f81e996739fb7646882a419484c72d19e05852a7e"
      }
    },
    "colab": {
      "provenance": []
    }
  },
  "nbformat": 4,
  "nbformat_minor": 0
}