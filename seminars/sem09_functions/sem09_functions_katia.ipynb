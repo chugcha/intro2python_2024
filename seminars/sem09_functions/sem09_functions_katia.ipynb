{
  "nbformat": 4,
  "nbformat_minor": 0,
  "metadata": {
    "colab": {
      "provenance": []
    },
    "kernelspec": {
      "name": "python3",
      "display_name": "Python 3"
    },
    "language_info": {
      "name": "python"
    }
  },
  "cells": [
    {
      "cell_type": "markdown",
      "source": [
        "# Функции"
      ],
      "metadata": {
        "id": "nR16_Cf5Hk4D"
      }
    },
    {
      "cell_type": "markdown",
      "source": [
        "## База функций"
      ],
      "metadata": {
        "id": "mdnZwd_wQlBJ"
      }
    },
    {
      "cell_type": "markdown",
      "source": [
        "Синтаксис привычный:\n",
        "\n",
        "Вводится при помощи `def`, дальше идет название функции, ее аргумент_ы, двоеточие. Тело функции с отступом.\n",
        "\n",
        "```python\n",
        "def function_name(argument_1, argument_2, ...):\n",
        "    # something to do\n",
        "    return ...\n",
        "```\n",
        "\n",
        "Обычно функция что-то выводит при помощи `return` (**БЕЗ** скобок)."
      ],
      "metadata": {
        "id": "VdtagYaaHr4X"
      }
    },
    {
      "cell_type": "code",
      "source": [
        "def multiplication(a, b):\n",
        "    return a * b"
      ],
      "metadata": {
        "id": "PUZ1WlvSItsy"
      },
      "execution_count": 1,
      "outputs": []
    },
    {
      "cell_type": "markdown",
      "source": [
        "Функция запустилась, но ничего не произошло... Почему?\n",
        "\n",
        "Нам надо ее вызвать через ее название, передав в качестве аргументов реальные значения!"
      ],
      "metadata": {
        "id": "QR9U37nuI5bW"
      }
    },
    {
      "cell_type": "code",
      "source": [
        "print(multiplication(5, 6))"
      ],
      "metadata": {
        "colab": {
          "base_uri": "https://localhost:8080/"
        },
        "id": "LZuZDvX-It1q",
        "outputId": "db2b093d-56bd-40de-85ba-edd9f5a8eddd"
      },
      "execution_count": 18,
      "outputs": [
        {
          "output_type": "stream",
          "name": "stdout",
          "text": [
            "30\n"
          ]
        }
      ]
    },
    {
      "cell_type": "code",
      "execution_count": 19,
      "metadata": {
        "colab": {
          "base_uri": "https://localhost:8080/"
        },
        "id": "JhIOOngEHgwn",
        "outputId": "1d98954a-73e4-4a93-e3de-f2996deb37fd"
      },
      "outputs": [
        {
          "output_type": "stream",
          "name": "stdout",
          "text": [
            "aaaaaa\n"
          ]
        }
      ],
      "source": [
        "print(multiplication('a', 6))"
      ]
    },
    {
      "cell_type": "markdown",
      "source": [
        "Аргументы существуют только внутри функции, поэтому вне функции пытаться делать что-то с ними бесполезно. С другой стороны, если аргумент был определен где-то вне функции, то может случиться беда (но об этом позже)..."
      ],
      "metadata": {
        "id": "3iuuSGw-LrdA"
      }
    },
    {
      "cell_type": "code",
      "source": [
        "print(a)"
      ],
      "metadata": {
        "colab": {
          "base_uri": "https://localhost:8080/",
          "height": 145
        },
        "id": "aepBGpmtLlPb",
        "outputId": "7bc7f453-3280-4a49-a72d-ee36b0b81f0d"
      },
      "execution_count": 4,
      "outputs": [
        {
          "output_type": "error",
          "ename": "NameError",
          "evalue": "name 'a' is not defined",
          "traceback": [
            "\u001b[0;31m---------------------------------------------------------------------------\u001b[0m",
            "\u001b[0;31mNameError\u001b[0m                                 Traceback (most recent call last)",
            "\u001b[0;32m<ipython-input-4-bca0e2660b9f>\u001b[0m in \u001b[0;36m<cell line: 0>\u001b[0;34m()\u001b[0m\n\u001b[0;32m----> 1\u001b[0;31m \u001b[0mprint\u001b[0m\u001b[0;34m(\u001b[0m\u001b[0ma\u001b[0m\u001b[0;34m)\u001b[0m\u001b[0;34m\u001b[0m\u001b[0;34m\u001b[0m\u001b[0m\n\u001b[0m",
            "\u001b[0;31mNameError\u001b[0m: name 'a' is not defined"
          ]
        }
      ]
    },
    {
      "cell_type": "markdown",
      "source": [
        "Функция может быть любой сложности, вложена одна в другую и возвращать любой тип данных:"
      ],
      "metadata": {
        "id": "fHhZVKpOJcd7"
      }
    },
    {
      "cell_type": "code",
      "source": [
        "def addition_1(n):\n",
        "     def addition_2(x):\n",
        "         return x + n\n",
        "     return addition_2"
      ],
      "metadata": {
        "id": "Qzx326YZJZoq"
      },
      "execution_count": 5,
      "outputs": []
    },
    {
      "cell_type": "code",
      "source": [
        "new = addition_1(100)  # Какой тип данных у переменной new?\n",
        "print(type(new))"
      ],
      "metadata": {
        "id": "u0S5hWrzJqv8",
        "colab": {
          "base_uri": "https://localhost:8080/"
        },
        "outputId": "07caeb44-2667-4b57-c605-2b8000626199"
      },
      "execution_count": 6,
      "outputs": [
        {
          "output_type": "stream",
          "name": "stdout",
          "text": [
            "<class 'function'>\n"
          ]
        }
      ]
    },
    {
      "cell_type": "code",
      "source": [
        "print(new(500))"
      ],
      "metadata": {
        "colab": {
          "base_uri": "https://localhost:8080/"
        },
        "id": "Drs5KkVKJxdK",
        "outputId": "88670f3e-d767-4a38-9914-169254ab8e87"
      },
      "execution_count": 20,
      "outputs": [
        {
          "output_type": "stream",
          "name": "stdout",
          "text": [
            "600\n"
          ]
        }
      ]
    },
    {
      "cell_type": "markdown",
      "source": [
        "Функция может и ничего не возвращать. Тогда вместо `return` используется `pass` (или ничего):"
      ],
      "metadata": {
        "id": "jGIcBcrsKPG5"
      }
    },
    {
      "cell_type": "code",
      "source": [
        "def my_function():\n",
        "    pass"
      ],
      "metadata": {
        "id": "b-_KiNULJzvR"
      },
      "execution_count": 8,
      "outputs": []
    },
    {
      "cell_type": "code",
      "source": [
        "print(my_function())"
      ],
      "metadata": {
        "id": "pN2veIZUKipa",
        "colab": {
          "base_uri": "https://localhost:8080/"
        },
        "outputId": "90f6a27b-684c-4eb3-8a91-425bf1db2c8b"
      },
      "execution_count": 9,
      "outputs": [
        {
          "output_type": "stream",
          "name": "stdout",
          "text": [
            "None\n"
          ]
        }
      ]
    },
    {
      "cell_type": "markdown",
      "source": [
        "Еще одна важная идея: `return` всегда выкидывает нас из функции."
      ],
      "metadata": {
        "id": "8FWRagX0Gqma"
      }
    },
    {
      "cell_type": "code",
      "source": [
        "def has_negative_number(list_numbers):\n",
        "    for num in list_numbers:\n",
        "        if num < 0:\n",
        "            print(num)\n",
        "            return True\n",
        "\n",
        "    return False  # вопрос: что вернет функция, если я забуду здесь return False написать?"
      ],
      "metadata": {
        "id": "JmxTEksuGliC"
      },
      "execution_count": 15,
      "outputs": []
    },
    {
      "cell_type": "code",
      "source": [
        "print(has_negative_number([1, 2, -10, 0, -6]))"
      ],
      "metadata": {
        "colab": {
          "base_uri": "https://localhost:8080/"
        },
        "id": "smhfItR2Hnp0",
        "outputId": "4490e31d-501f-4c90-acc2-118a8d6014d2"
      },
      "execution_count": 17,
      "outputs": [
        {
          "output_type": "stream",
          "name": "stdout",
          "text": [
            "-10\n",
            "True\n"
          ]
        }
      ]
    },
    {
      "cell_type": "markdown",
      "source": [
        "Чтобы сообщить, какие типы данных наша функция принимает и возвращает, используются тайпинги, которые улучшают читаемость кода. Есть всякие чеккеры, типа [`mypy`](https://mypy-lang.org/), которые проверяют их корректность."
      ],
      "metadata": {
        "id": "pKC9VEqQH_ea"
      }
    },
    {
      "cell_type": "code",
      "source": [
        "def has_negative_number(numbers: list[int]) -> bool:\n",
        "    for num in numbers:\n",
        "        if num < 0:\n",
        "            return True\n",
        "\n",
        "    return False"
      ],
      "metadata": {
        "id": "0GnVsDbbH9XE"
      },
      "execution_count": 21,
      "outputs": []
    },
    {
      "cell_type": "markdown",
      "source": [
        "### Задача №1"
      ],
      "metadata": {
        "id": "MKW5UTk8JT4r"
      }
    },
    {
      "cell_type": "markdown",
      "source": [
        "Напишите функцию `jumble()`, которая берёт на вход слово и случайным образом перемешивает буквы внутри него, кроме первой и последней. Затем возвращает это слово с перемешанными буквами.\n",
        "    \n",
        "**Примеры работы функции:**\n",
        "   \n",
        "```python\n",
        ">>> print(jumble(банан))\n",
        "<<< бнаан\n",
        "```\n",
        "    \n",
        "```python\n",
        ">>> print(jumble(университет))\n",
        "<<< урнтиеесивт\n",
        "```"
      ],
      "metadata": {
        "id": "E4aE3KtpJWux"
      }
    },
    {
      "cell_type": "code",
      "source": [
        "# ваш код туть"
      ],
      "metadata": {
        "id": "CHAVZneVJnbY"
      },
      "execution_count": null,
      "outputs": []
    },
    {
      "cell_type": "markdown",
      "source": [
        "## Позиционные и именованные аргументы"
      ],
      "metadata": {
        "id": "gykBdeULQwpL"
      }
    },
    {
      "cell_type": "markdown",
      "source": [
        "Сейчас мы смотрели на функции с обязательными позиционными аргументами. Но есть еще необязательные именованные. Их мы прописываем **после** обязательных с равно, где после равно идет дефолтное значение для этой переменной.\n",
        "\n",
        "Если этот аргумент прописан в вызове функции, то мы его подставляем. Иначе используем дефолтный:"
      ],
      "metadata": {
        "id": "dfctmevtK-Bb"
      }
    },
    {
      "cell_type": "code",
      "source": [
        "def greeting(name: str, surname: str, age: int = 7) -> str:  # Вопрос: где мы это уже встречали?\n",
        "    return f'Happy {age}-th BDay, {name} {surname}!'"
      ],
      "metadata": {
        "id": "T8LVx0tLKj_z"
      },
      "execution_count": 30,
      "outputs": []
    },
    {
      "cell_type": "code",
      "source": [
        "print(greeting('Mark', 'Renton', age=26))  # или так: greeting('Mark', 'Renton', 26)"
      ],
      "metadata": {
        "colab": {
          "base_uri": "https://localhost:8080/"
        },
        "id": "mAyENZLdMZa2",
        "outputId": "08302bf9-abf2-4ed9-d952-7a41e1fe37be"
      },
      "execution_count": 31,
      "outputs": [
        {
          "output_type": "stream",
          "name": "stdout",
          "text": [
            "Happy 26-th BDay, Mark Renton!\n"
          ]
        }
      ]
    },
    {
      "cell_type": "code",
      "source": [
        "print(greeting('Dora', 'Márquez'))"
      ],
      "metadata": {
        "colab": {
          "base_uri": "https://localhost:8080/"
        },
        "id": "pN9i6WP7MlsH",
        "outputId": "a3a8ca33-fa2a-4b0a-cd62-08197f0eda5b"
      },
      "execution_count": 32,
      "outputs": [
        {
          "output_type": "stream",
          "name": "stdout",
          "text": [
            "Happy 7-th BDay, Dora Márquez!\n"
          ]
        }
      ]
    },
    {
      "cell_type": "markdown",
      "source": [
        "С обязательными аргументами так нельзя:"
      ],
      "metadata": {
        "id": "OUaZfL8ZNLF9"
      }
    },
    {
      "cell_type": "code",
      "source": [
        "greeting('Kate')"
      ],
      "metadata": {
        "colab": {
          "base_uri": "https://localhost:8080/",
          "height": 145
        },
        "id": "1roF-71sMxpw",
        "outputId": "eac10fb9-46a6-493b-8772-fa978bb64a60"
      },
      "execution_count": 33,
      "outputs": [
        {
          "output_type": "error",
          "ename": "TypeError",
          "evalue": "greeting() missing 1 required positional argument: 'surname'",
          "traceback": [
            "\u001b[0;31m---------------------------------------------------------------------------\u001b[0m",
            "\u001b[0;31mTypeError\u001b[0m                                 Traceback (most recent call last)",
            "\u001b[0;32m<ipython-input-33-1d379f612f3c>\u001b[0m in \u001b[0;36m<cell line: 0>\u001b[0;34m()\u001b[0m\n\u001b[0;32m----> 1\u001b[0;31m \u001b[0mgreeting\u001b[0m\u001b[0;34m(\u001b[0m\u001b[0;34m'Kate'\u001b[0m\u001b[0;34m)\u001b[0m\u001b[0;34m\u001b[0m\u001b[0;34m\u001b[0m\u001b[0m\n\u001b[0m",
            "\u001b[0;31mTypeError\u001b[0m: greeting() missing 1 required positional argument: 'surname'"
          ]
        }
      ]
    },
    {
      "cell_type": "markdown",
      "source": [
        "Так тоже нельзя:"
      ],
      "metadata": {
        "id": "9AvoKBVqR0W8"
      }
    },
    {
      "cell_type": "code",
      "source": [
        "greeting(age=22, 'Kate', 'Kozlova')"
      ],
      "metadata": {
        "colab": {
          "base_uri": "https://localhost:8080/",
          "height": 109
        },
        "id": "K-pRnRCgRuBH",
        "outputId": "92d5c4f8-7786-4655-f7df-aeaf0eaffff9"
      },
      "execution_count": 55,
      "outputs": [
        {
          "output_type": "error",
          "ename": "SyntaxError",
          "evalue": "positional argument follows keyword argument (<ipython-input-55-16222151d1f7>, line 1)",
          "traceback": [
            "\u001b[0;36m  File \u001b[0;32m\"<ipython-input-55-16222151d1f7>\"\u001b[0;36m, line \u001b[0;32m1\u001b[0m\n\u001b[0;31m    greeting(age=22, 'Kate', 'Kozlova')\u001b[0m\n\u001b[0m                                      ^\u001b[0m\n\u001b[0;31mSyntaxError\u001b[0m\u001b[0;31m:\u001b[0m positional argument follows keyword argument\n"
          ]
        }
      ]
    },
    {
      "cell_type": "markdown",
      "source": [
        "### Задача №2"
      ],
      "metadata": {
        "id": "AMrASlUcOOsU"
      }
    },
    {
      "cell_type": "markdown",
      "source": [
        "Напишите функцию `odd_even()`, которая на вход получает два обязательных аргумента-числа $-$ начало и конец вычисляемого промежутка и один необязательный (`bool`) $-$ четный (`True`) или нечетный (`False`). При этом значение по умолчанию $-$ нечетный.\n",
        "    \n",
        "В результате посчитайте сумму всех не_четных чисел соответственно внутри вычисляемого промежутка (включая границы).\n",
        "    \n",
        "**Примеры работы функции:**\n",
        "```python\n",
        ">>> print(odd_even(1, 4, True))\n",
        "<<< 6\n",
        "```\n",
        "\n",
        "```python\n",
        ">>> print(odd_even(1, 6))\n",
        "<<< 9\n",
        "```"
      ],
      "metadata": {
        "id": "mYlsU4L1ORtp"
      }
    },
    {
      "cell_type": "code",
      "source": [
        "# ваш код туть"
      ],
      "metadata": {
        "id": "aUc6gUFpOuaE"
      },
      "execution_count": null,
      "outputs": []
    },
    {
      "cell_type": "markdown",
      "source": [
        "Функция также может принимать переменное количество позиционных аргументов, тогда перед именем ставится `*`. Перепишем функцию поиска отрицательных чисел из начала:"
      ],
      "metadata": {
        "id": "krJ85yuuNSdi"
      }
    },
    {
      "cell_type": "code",
      "source": [
        "def has_negative_number(*numbers: int) -> bool:\n",
        "    for num in numbers:\n",
        "        if num < 0:\n",
        "            return True\n",
        "\n",
        "    return False"
      ],
      "metadata": {
        "id": "i9A4DquOM7FU"
      },
      "execution_count": 37,
      "outputs": []
    },
    {
      "cell_type": "code",
      "source": [
        "print(has_negative_number(1, 2, 3, 4, -1))"
      ],
      "metadata": {
        "colab": {
          "base_uri": "https://localhost:8080/"
        },
        "id": "TtPlQwXLNIr8",
        "outputId": "a1aa0358-010f-4a63-a491-b8559d449ba5"
      },
      "execution_count": 38,
      "outputs": [
        {
          "output_type": "stream",
          "name": "stdout",
          "text": [
            "True\n"
          ]
        }
      ]
    },
    {
      "cell_type": "markdown",
      "source": [
        "А какой это вообще тип данных?"
      ],
      "metadata": {
        "id": "6vjV17M6NbvX"
      }
    },
    {
      "cell_type": "code",
      "source": [
        "from typing import Any\n",
        "\n",
        "\n",
        "def returning(*args: Any) -> ...:\n",
        "     return args\n",
        "\n",
        "\n",
        "# print(returning(1, 2, 'abc', ['red', 'black']))"
      ],
      "metadata": {
        "id": "-Q9HMVH2M1x1"
      },
      "execution_count": 56,
      "outputs": []
    },
    {
      "cell_type": "markdown",
      "source": [
        "Если это кортеж, то с ним можно делать все, к чему привыкли с кортежами:"
      ],
      "metadata": {
        "id": "ulLiz-qTOAZd"
      }
    },
    {
      "cell_type": "code",
      "source": [
        "def summary(*args: int | float) -> int | float:\n",
        "     return sum(args)"
      ],
      "metadata": {
        "id": "q02kPBagN8Qi"
      },
      "execution_count": 51,
      "outputs": []
    },
    {
      "cell_type": "code",
      "source": [
        "print(summary(1, 4, 5, 6.7))"
      ],
      "metadata": {
        "colab": {
          "base_uri": "https://localhost:8080/"
        },
        "id": "F9tpLD3MONvn",
        "outputId": "303ef9c2-d100-42b6-b1f7-b95d555acd32"
      },
      "execution_count": 52,
      "outputs": [
        {
          "output_type": "stream",
          "name": "stdout",
          "text": [
            "16.7\n"
          ]
        }
      ]
    },
    {
      "cell_type": "code",
      "source": [
        "def multiplication_args(*args: int | float) -> int | float:\n",
        "     mult = 1\n",
        "     for arg in args:\n",
        "         mult *= arg\n",
        "     return mult"
      ],
      "metadata": {
        "id": "6R1rFCP6OcW1"
      },
      "execution_count": 53,
      "outputs": []
    },
    {
      "cell_type": "code",
      "source": [
        "multiplication_args(1, 4, 5, 6)"
      ],
      "metadata": {
        "colab": {
          "base_uri": "https://localhost:8080/"
        },
        "id": "lNEykyedOZsl",
        "outputId": "04f98da8-6025-4c40-fce1-75342d8fa8c6"
      },
      "execution_count": 54,
      "outputs": [
        {
          "output_type": "execute_result",
          "data": {
            "text/plain": [
              "120"
            ]
          },
          "metadata": {},
          "execution_count": 54
        }
      ]
    },
    {
      "cell_type": "markdown",
      "source": [
        "### Задача №3"
      ],
      "metadata": {
        "id": "yWmV7NglQBP0"
      }
    },
    {
      "cell_type": "markdown",
      "source": [
        "Журнал “Ёралаш” не очень прибыльный, поэтому ему приходится экономить на чернилах и вместо букв Ё/ё в текстах использовать Е/е. В штат недавно наняли нового журналиста, который написал статью, в которой очень много букв Ё/ё. Помогите исправить ситуацию.\n",
        "    \n",
        "Напишите функцию `replacer()`, которая принимает в качестве параметра неизвестное число строк, заменяя во всех строках Ё/ё на Е/е. Функция возвращает список поданых ей строк."
      ],
      "metadata": {
        "id": "a3DLLX7hQERb"
      }
    },
    {
      "cell_type": "code",
      "source": [
        "# ваш код туть"
      ],
      "metadata": {
        "id": "jKVJpHrZQdel"
      },
      "execution_count": 50,
      "outputs": []
    },
    {
      "cell_type": "markdown",
      "source": [
        "Помимо `*args` есть еще и `**kwargs` для переменного количества именованных аргументов."
      ],
      "metadata": {
        "id": "0oCRsOPaSMvc"
      }
    },
    {
      "cell_type": "code",
      "source": [
        "def max_value(*values: int | str, **params: bool) -> int | str | None:\n",
        "    return_idx = params.get(\"return_idx\", False)  # достаем позиционный аргумент\n",
        "\n",
        "    if not values:  # если список пустой, вернем None\n",
        "        return None\n",
        "\n",
        "    max_value = values[0]\n",
        "    max_value_idx = 0\n",
        "    for i, value in enumerate(values):\n",
        "        if value > max_value:\n",
        "            max_value = value\n",
        "            max_value_idx = i\n",
        "\n",
        "    if return_idx:\n",
        "        return max_value_idx\n",
        "    return max_value"
      ],
      "metadata": {
        "id": "hB3UF_k0SMhe"
      },
      "execution_count": 57,
      "outputs": []
    },
    {
      "cell_type": "code",
      "source": [
        "print(\"max value:\", max_value(6, -1, 2, 9, 1))  # сам максимум\n",
        "print(\"max value index:\", max_value(6, -1, 2, 9, 1, return_idx=True)) # индекс максимума"
      ],
      "metadata": {
        "colab": {
          "base_uri": "https://localhost:8080/"
        },
        "id": "aiNcOdeeSs6h",
        "outputId": "bd1200f3-d0ed-4bdc-a380-243e27246089"
      },
      "execution_count": 58,
      "outputs": [
        {
          "output_type": "stream",
          "name": "stdout",
          "text": [
            "max value: 9\n",
            "max value index: 3\n"
          ]
        }
      ]
    },
    {
      "cell_type": "markdown",
      "source": [
        "А это-то какой тип данных?"
      ],
      "metadata": {
        "id": "VzK0xVyzbHhq"
      }
    },
    {
      "cell_type": "code",
      "source": [
        "from typing import Any\n",
        "\n",
        "\n",
        "def returning(**kwargs: Any) -> ...:\n",
        "     return kwargs\n",
        "\n",
        "\n",
        "# print(returning(a=1, b=2.5, c=True, d=[1, 2], e=None))"
      ],
      "metadata": {
        "id": "nbx-gbNFbHhq"
      },
      "execution_count": 118,
      "outputs": []
    },
    {
      "cell_type": "markdown",
      "source": [
        "## Рестрикшены"
      ],
      "metadata": {
        "id": "6wJlmHmqT3bZ"
      }
    },
    {
      "cell_type": "markdown",
      "source": [
        "В аргументы функции можно написать пустую `*`. Тогда будет считаться, что все после этой звездочки $-$ это именованные аргументы и больше позиционные использовать нельзя. Ранее мы могли вызвать функцию вот так:"
      ],
      "metadata": {
        "id": "FVGKL7ltT7ZF"
      }
    },
    {
      "cell_type": "code",
      "source": [
        "def my_max(a, b, print_hello=True, **kwargs):\n",
        "    if print_hello:\n",
        "        print(a, b, **kwargs)\n",
        "\n",
        "    if a > b:\n",
        "        return a\n",
        "    return b\n",
        "\n",
        "\n",
        "print(my_max(1, 2, False))"
      ],
      "metadata": {
        "colab": {
          "base_uri": "https://localhost:8080/"
        },
        "id": "1z0HqdCIUN3b",
        "outputId": "a944c2c9-36d7-4e7e-eed8-03300dc1e92e"
      },
      "execution_count": 60,
      "outputs": [
        {
          "output_type": "stream",
          "name": "stdout",
          "text": [
            "2\n"
          ]
        }
      ]
    },
    {
      "cell_type": "markdown",
      "source": [
        "А если добавить `*`, то уже нельзя:"
      ],
      "metadata": {
        "id": "fje_ykU8UTVy"
      }
    },
    {
      "cell_type": "code",
      "source": [
        "def my_max(a, b, *, print_hello=True, **kwargs):\n",
        "    if print_hello:\n",
        "        print(a, b, **kwargs)\n",
        "\n",
        "    if a > b:\n",
        "        return a\n",
        "    return b"
      ],
      "metadata": {
        "id": "vr5xy7uEUXhS"
      },
      "execution_count": 61,
      "outputs": []
    },
    {
      "cell_type": "code",
      "source": [
        "print(my_max(1, 2, True, sep='.', end='!'))  # ошибка"
      ],
      "metadata": {
        "colab": {
          "base_uri": "https://localhost:8080/",
          "height": 145
        },
        "id": "HvMSivSVUZ71",
        "outputId": "7671424c-f95e-4e58-ec4b-c6725b8e150e"
      },
      "execution_count": 64,
      "outputs": [
        {
          "output_type": "error",
          "ename": "TypeError",
          "evalue": "my_max() takes 2 positional arguments but 3 were given",
          "traceback": [
            "\u001b[0;31m---------------------------------------------------------------------------\u001b[0m",
            "\u001b[0;31mTypeError\u001b[0m                                 Traceback (most recent call last)",
            "\u001b[0;32m<ipython-input-64-e74039a8035d>\u001b[0m in \u001b[0;36m<cell line: 0>\u001b[0;34m()\u001b[0m\n\u001b[0;32m----> 1\u001b[0;31m \u001b[0mprint\u001b[0m\u001b[0;34m(\u001b[0m\u001b[0mmy_max\u001b[0m\u001b[0;34m(\u001b[0m\u001b[0;36m1\u001b[0m\u001b[0;34m,\u001b[0m \u001b[0;36m2\u001b[0m\u001b[0;34m,\u001b[0m \u001b[0;32mTrue\u001b[0m\u001b[0;34m,\u001b[0m \u001b[0msep\u001b[0m\u001b[0;34m=\u001b[0m\u001b[0;34m'.'\u001b[0m\u001b[0;34m,\u001b[0m \u001b[0mend\u001b[0m\u001b[0;34m=\u001b[0m\u001b[0;34m'!'\u001b[0m\u001b[0;34m)\u001b[0m\u001b[0;34m)\u001b[0m  \u001b[0;31m# ошибка\u001b[0m\u001b[0;34m\u001b[0m\u001b[0;34m\u001b[0m\u001b[0m\n\u001b[0m",
            "\u001b[0;31mTypeError\u001b[0m: my_max() takes 2 positional arguments but 3 were given"
          ]
        }
      ]
    },
    {
      "cell_type": "code",
      "source": [
        "print(my_max(1, 2, print_hello=True, sep='.', end='!'))  # все ОК\n",
        "\n",
        "print(my_max(a=1, b=2, print_hello=True, sep='.', end='!'))  # и так тоже работать будет"
      ],
      "metadata": {
        "colab": {
          "base_uri": "https://localhost:8080/"
        },
        "id": "CnHjEjomUdde",
        "outputId": "4a5ad73e-6250-4ff8-be2a-d484c8d9469c"
      },
      "execution_count": 66,
      "outputs": [
        {
          "output_type": "stream",
          "name": "stdout",
          "text": [
            "1.2!2\n",
            "1.2!2\n"
          ]
        }
      ]
    },
    {
      "cell_type": "markdown",
      "source": [
        "Можно, наоборот, запретить первым аргументам быть именованными в принципе. Это делается через `/`:"
      ],
      "metadata": {
        "id": "NFqV3XhGUrSg"
      }
    },
    {
      "cell_type": "code",
      "source": [
        "def my_max(a, b, /, c, *, print_hello=True, **kwargs):\n",
        "    if print_hello:\n",
        "        print(a, b, c, **kwargs)\n",
        "\n",
        "    if a > b:\n",
        "        return a\n",
        "    return b"
      ],
      "metadata": {
        "id": "2Sci68H3UyMX"
      },
      "execution_count": 67,
      "outputs": []
    },
    {
      "cell_type": "code",
      "source": [
        "print(my_max(a=1, b=2, c=3, print_hello=True, sep='.', end='!'))  # ошибка"
      ],
      "metadata": {
        "colab": {
          "base_uri": "https://localhost:8080/",
          "height": 145
        },
        "id": "cwuvkXrjU4af",
        "outputId": "9c3962a3-9e10-4d6e-d24e-b9aa0f4aff83"
      },
      "execution_count": 68,
      "outputs": [
        {
          "output_type": "error",
          "ename": "TypeError",
          "evalue": "my_max() missing 2 required positional arguments: 'a' and 'b'",
          "traceback": [
            "\u001b[0;31m---------------------------------------------------------------------------\u001b[0m",
            "\u001b[0;31mTypeError\u001b[0m                                 Traceback (most recent call last)",
            "\u001b[0;32m<ipython-input-68-3b907269fe48>\u001b[0m in \u001b[0;36m<cell line: 0>\u001b[0;34m()\u001b[0m\n\u001b[0;32m----> 1\u001b[0;31m \u001b[0mprint\u001b[0m\u001b[0;34m(\u001b[0m\u001b[0mmy_max\u001b[0m\u001b[0;34m(\u001b[0m\u001b[0ma\u001b[0m\u001b[0;34m=\u001b[0m\u001b[0;36m1\u001b[0m\u001b[0;34m,\u001b[0m \u001b[0mb\u001b[0m\u001b[0;34m=\u001b[0m\u001b[0;36m2\u001b[0m\u001b[0;34m,\u001b[0m \u001b[0mc\u001b[0m\u001b[0;34m=\u001b[0m\u001b[0;36m3\u001b[0m\u001b[0;34m,\u001b[0m \u001b[0mprint_hello\u001b[0m\u001b[0;34m=\u001b[0m\u001b[0;32mTrue\u001b[0m\u001b[0;34m,\u001b[0m \u001b[0msep\u001b[0m\u001b[0;34m=\u001b[0m\u001b[0;34m'.'\u001b[0m\u001b[0;34m,\u001b[0m \u001b[0mend\u001b[0m\u001b[0;34m=\u001b[0m\u001b[0;34m'!'\u001b[0m\u001b[0;34m)\u001b[0m\u001b[0;34m)\u001b[0m  \u001b[0;31m# ошибка\u001b[0m\u001b[0;34m\u001b[0m\u001b[0;34m\u001b[0m\u001b[0m\n\u001b[0m",
            "\u001b[0;31mTypeError\u001b[0m: my_max() missing 2 required positional arguments: 'a' and 'b'"
          ]
        }
      ]
    },
    {
      "cell_type": "code",
      "source": [
        "print(my_max(1, 2, 3, print_hello=True, sep='.', end='!'))  # все работает\n",
        "\n",
        "print(my_max(1, 2, c=3, print_hello=True, sep='.', end='!'))  # и так тоже работает"
      ],
      "metadata": {
        "colab": {
          "base_uri": "https://localhost:8080/"
        },
        "id": "Z5ziu_8QU0-n",
        "outputId": "2c145bdf-7ae8-46f0-8554-77353819861f"
      },
      "execution_count": 69,
      "outputs": [
        {
          "output_type": "stream",
          "name": "stdout",
          "text": [
            "1.2.3!2\n",
            "1.2.3!2\n"
          ]
        }
      ]
    },
    {
      "cell_type": "markdown",
      "source": [
        "### Задача №4"
      ],
      "metadata": {
        "id": "AjCvT77HTurq"
      }
    },
    {
      "cell_type": "markdown",
      "source": [
        "Создайте функцию `four_args()`, которая принимает строго от 1 до 4 **именованных** аргумента.\n",
        "В результате ее работы возвращаются названия аргументов и их значения в случае, если они не `None`.\n",
        "**Примеры работы функции:**\n",
        "```python\n",
        ">>> print(four_args(arg_1 = 1, arg_3 = 500))\n",
        "<<< Аргументы: arg_1 = 1, arg_3 = 500\n",
        "```\n",
        "\n",
        "```python\n",
        ">>> print(four_args(arg_1 = 1, arg_3 = 500, arg_4 = None))\n",
        "<<< Аргументы: arg_1 = 1, arg_3 = 500\n",
        "```"
      ],
      "metadata": {
        "id": "YowIYx-YT0Rk"
      }
    },
    {
      "cell_type": "code",
      "source": [
        "# ваш код туть"
      ],
      "metadata": {
        "id": "4Fw5jZ9xTuO_"
      },
      "execution_count": 122,
      "outputs": []
    },
    {
      "cell_type": "markdown",
      "source": [
        "## Глобальные и локальные переменные"
      ],
      "metadata": {
        "id": "NLPoWoPhKeJS"
      }
    },
    {
      "cell_type": "markdown",
      "source": [
        "1. Внутри функции **можно** использовать переменные, объявленные вне этой функции: их называют *глобальными*."
      ],
      "metadata": {
        "id": "a9P_8lT8KtlV"
      }
    },
    {
      "cell_type": "code",
      "source": [
        "a = 1\n",
        "\n",
        "def isglobal_a():\n",
        "    print(a)\n",
        "\n",
        "isglobal_a()"
      ],
      "metadata": {
        "colab": {
          "base_uri": "https://localhost:8080/"
        },
        "id": "4fYuPYcjKdjc",
        "outputId": "7646987d-855a-47c3-d268-890b483a8af6"
      },
      "execution_count": 1,
      "outputs": [
        {
          "output_type": "stream",
          "name": "stdout",
          "text": [
            "1\n"
          ]
        }
      ]
    },
    {
      "cell_type": "markdown",
      "source": [
        "2. Если инициализировать какую-то переменную внутри функции, использовать эту переменную **вне** функции **не удастся**: такие переменные называются *локальными*. Они становятся недоступными после выхода из функции!"
      ],
      "metadata": {
        "id": "tsf-OBwXK7R6"
      }
    },
    {
      "cell_type": "code",
      "source": [
        "del a"
      ],
      "metadata": {
        "id": "FWkr82YZLVM1"
      },
      "execution_count": 3,
      "outputs": []
    },
    {
      "cell_type": "code",
      "source": [
        "def f():\n",
        "    a = 1\n",
        "\n",
        "f()\n",
        "print(a)"
      ],
      "metadata": {
        "id": "w5iAEKqiOu2i",
        "colab": {
          "base_uri": "https://localhost:8080/",
          "height": 181
        },
        "outputId": "069bbc61-fa86-4277-a734-cc5a6e569d00"
      },
      "execution_count": 4,
      "outputs": [
        {
          "output_type": "error",
          "ename": "NameError",
          "evalue": "name 'a' is not defined",
          "traceback": [
            "\u001b[0;31m---------------------------------------------------------------------------\u001b[0m",
            "\u001b[0;31mNameError\u001b[0m                                 Traceback (most recent call last)",
            "\u001b[0;32m<ipython-input-4-a6432c295a68>\u001b[0m in \u001b[0;36m<cell line: 0>\u001b[0;34m()\u001b[0m\n\u001b[1;32m      3\u001b[0m \u001b[0;34m\u001b[0m\u001b[0m\n\u001b[1;32m      4\u001b[0m \u001b[0mf\u001b[0m\u001b[0;34m(\u001b[0m\u001b[0;34m)\u001b[0m\u001b[0;34m\u001b[0m\u001b[0;34m\u001b[0m\u001b[0m\n\u001b[0;32m----> 5\u001b[0;31m \u001b[0mprint\u001b[0m\u001b[0;34m(\u001b[0m\u001b[0ma\u001b[0m\u001b[0;34m)\u001b[0m\u001b[0;34m\u001b[0m\u001b[0;34m\u001b[0m\u001b[0m\n\u001b[0m",
            "\u001b[0;31mNameError\u001b[0m: name 'a' is not defined"
          ]
        }
      ]
    },
    {
      "cell_type": "markdown",
      "source": [
        "3. Что произойдет, если попробовать изменить значение глобальной переменной внутри функции?<br>\n",
        "Если внутри функции модифицируется значение некоторой переменной, то переменная с таким именем становится локальной переменной, и ее модификация не приведет к изменению глобальной переменной с таким же именем!"
      ],
      "metadata": {
        "id": "IcMkh2hHLo1C"
      }
    },
    {
      "cell_type": "code",
      "source": [
        "a = 0\n",
        "\n",
        "def f():\n",
        "    a = 1\n",
        "    print(a)\n",
        "\n",
        "f()\n",
        "print(a)"
      ],
      "metadata": {
        "colab": {
          "base_uri": "https://localhost:8080/"
        },
        "id": "bNAXYZQ3LTbb",
        "outputId": "67335f9e-acb9-47a1-b5ac-2fbbdea91e48"
      },
      "execution_count": 5,
      "outputs": [
        {
          "output_type": "stream",
          "name": "stdout",
          "text": [
            "1\n",
            "0\n"
          ]
        }
      ]
    },
    {
      "cell_type": "markdown",
      "source": [
        "Но почему тогда получается так?"
      ],
      "metadata": {
        "id": "JVxvz8b5MXJg"
      }
    },
    {
      "cell_type": "code",
      "source": [
        "VALUE = 10\n",
        "\n",
        "def f():\n",
        "    VALUE += 1\n",
        "\n",
        "f()"
      ],
      "metadata": {
        "colab": {
          "base_uri": "https://localhost:8080/",
          "height": 306
        },
        "id": "Zy2fvq1TMbri",
        "outputId": "52b76d99-cfcf-49cc-bf47-3ebaed4ed7de"
      },
      "execution_count": 6,
      "outputs": [
        {
          "output_type": "error",
          "ename": "UnboundLocalError",
          "evalue": "cannot access local variable 'VALUE' where it is not associated with a value",
          "traceback": [
            "\u001b[0;31m---------------------------------------------------------------------------\u001b[0m",
            "\u001b[0;31mUnboundLocalError\u001b[0m                         Traceback (most recent call last)",
            "\u001b[0;32m<ipython-input-6-8c4bf2998ff6>\u001b[0m in \u001b[0;36m<cell line: 0>\u001b[0;34m()\u001b[0m\n\u001b[1;32m      4\u001b[0m     \u001b[0mVALUE\u001b[0m \u001b[0;34m+=\u001b[0m \u001b[0;36m1\u001b[0m\u001b[0;34m\u001b[0m\u001b[0;34m\u001b[0m\u001b[0m\n\u001b[1;32m      5\u001b[0m \u001b[0;34m\u001b[0m\u001b[0m\n\u001b[0;32m----> 6\u001b[0;31m \u001b[0mf\u001b[0m\u001b[0;34m(\u001b[0m\u001b[0;34m)\u001b[0m\u001b[0;34m\u001b[0m\u001b[0;34m\u001b[0m\u001b[0m\n\u001b[0m",
            "\u001b[0;32m<ipython-input-6-8c4bf2998ff6>\u001b[0m in \u001b[0;36mf\u001b[0;34m()\u001b[0m\n\u001b[1;32m      2\u001b[0m \u001b[0;34m\u001b[0m\u001b[0m\n\u001b[1;32m      3\u001b[0m \u001b[0;32mdef\u001b[0m \u001b[0mf\u001b[0m\u001b[0;34m(\u001b[0m\u001b[0;34m)\u001b[0m\u001b[0;34m:\u001b[0m\u001b[0;34m\u001b[0m\u001b[0;34m\u001b[0m\u001b[0m\n\u001b[0;32m----> 4\u001b[0;31m     \u001b[0mVALUE\u001b[0m \u001b[0;34m+=\u001b[0m \u001b[0;36m1\u001b[0m\u001b[0;34m\u001b[0m\u001b[0;34m\u001b[0m\u001b[0m\n\u001b[0m\u001b[1;32m      5\u001b[0m \u001b[0;34m\u001b[0m\u001b[0m\n\u001b[1;32m      6\u001b[0m \u001b[0mf\u001b[0m\u001b[0;34m(\u001b[0m\u001b[0;34m)\u001b[0m\u001b[0;34m\u001b[0m\u001b[0;34m\u001b[0m\u001b[0m\n",
            "\u001b[0;31mUnboundLocalError\u001b[0m: cannot access local variable 'VALUE' where it is not associated with a value"
          ]
        }
      ]
    },
    {
      "cell_type": "markdown",
      "source": [
        "Давайте разберемся, что значит *модифицируется*?<br>\n",
        "Инструкция, модифицирующая значение переменной $-$ это операторы `=`, `+=` (и аналогичные), а также использование переменной в качестве параметра цикла `for`!"
      ],
      "metadata": {
        "id": "eSYTy8lpMNgc"
      }
    },
    {
      "cell_type": "markdown",
      "source": [
        "4. Чтобы функция могла изменить значение глобальной переменной, необходимо объявить эту переменную внутри функции, как глобальную. Это делается помощи ключевого слова `global` (но это очень плохо чаще всего (но иногда полезно (но очень редко (но если очень хочется и нужно, то можно))))."
      ],
      "metadata": {
        "id": "Gp-eK3orMxxJ"
      }
    },
    {
      "cell_type": "code",
      "source": [
        "VALUE = 10\n",
        "\n",
        "def f():\n",
        "    global VALUE\n",
        "    VALUE += 1\n",
        "\n",
        "f()\n",
        "\n",
        "print(VALUE)"
      ],
      "metadata": {
        "colab": {
          "base_uri": "https://localhost:8080/"
        },
        "id": "GMvuh6clMk6i",
        "outputId": "236990dc-1981-4585-a87a-bf6cac09f283"
      },
      "execution_count": 80,
      "outputs": [
        {
          "output_type": "stream",
          "name": "stdout",
          "text": [
            "11\n"
          ]
        }
      ]
    },
    {
      "cell_type": "markdown",
      "source": [
        "А еще вспоминаем всякие приколы со списками:"
      ],
      "metadata": {
        "id": "MCLyPggPWy13"
      }
    },
    {
      "cell_type": "code",
      "source": [
        "a = [1, 2, 3]\n",
        "\n",
        "def f():\n",
        "    a.append(4)\n",
        "\n",
        "f()\n",
        "\n",
        "print(a)  # почему так..?"
      ],
      "metadata": {
        "colab": {
          "base_uri": "https://localhost:8080/"
        },
        "id": "k7UkY-z9J1Ty",
        "outputId": "202ce313-419b-4b8c-db6d-23fc3dff88c9"
      },
      "execution_count": 83,
      "outputs": [
        {
          "output_type": "stream",
          "name": "stdout",
          "text": [
            "[1, 2, 3, 4]\n"
          ]
        }
      ]
    },
    {
      "cell_type": "code",
      "source": [
        "def f(a: list):\n",
        "    a.append(4)\n",
        "\n",
        "a = [1, 2, 3]\n",
        "\n",
        "f(a)\n",
        "\n",
        "print(a)"
      ],
      "metadata": {
        "colab": {
          "base_uri": "https://localhost:8080/"
        },
        "id": "5fFc8ezkWEsG",
        "outputId": "a9e7d54e-9b99-4e52-cd8a-60071ae09c68"
      },
      "execution_count": 84,
      "outputs": [
        {
          "output_type": "stream",
          "name": "stdout",
          "text": [
            "[1, 2, 3, 4]\n"
          ]
        }
      ]
    },
    {
      "cell_type": "markdown",
      "source": [
        "## Анонимные функции (лямбда-выражения / `lambda`-functions)"
      ],
      "metadata": {
        "id": "li6qL0mQXY7w"
      }
    },
    {
      "cell_type": "markdown",
      "source": [
        "Лямбда-выражение позволяет создавать анонимные функции $-$ функции, которые не привязаны к имени и определяются с помощью оператора lambda.\n",
        "\n",
        "* В анонимной функции может содержаться только одно выражение\n",
        "* В анонимную функцию могут передаваться сколько угодно аргументов\n",
        "\n",
        "```python\n",
        "lambda <параметры> : <инструкция>\n",
        "```"
      ],
      "metadata": {
        "id": "YL4A8m7uXsaf"
      }
    },
    {
      "cell_type": "code",
      "source": [
        "# вообще, присваивать лямбды переменным плохой тон\n",
        "\n",
        "message = lambda: print(\"hello\")\n",
        "\n",
        "message()\n",
        "\n",
        "# то же самое, что и\n",
        "# def message():\n",
        "#     print(\"hello\")"
      ],
      "metadata": {
        "colab": {
          "base_uri": "https://localhost:8080/"
        },
        "id": "VQjnEm1dXYkP",
        "outputId": "ebf3d6a8-3ec2-4be0-b9ae-378fcc6aaf4c"
      },
      "execution_count": 91,
      "outputs": [
        {
          "output_type": "stream",
          "name": "stdout",
          "text": [
            "hello\n"
          ]
        }
      ]
    },
    {
      "cell_type": "code",
      "source": [
        "square = lambda n: n * n\n",
        "\n",
        "print(square(4))\n",
        "print(square(5))"
      ],
      "metadata": {
        "colab": {
          "base_uri": "https://localhost:8080/"
        },
        "id": "3RwNfq2TZmtQ",
        "outputId": "29820198-4ca8-4cea-af0a-4c3b2e2f6465"
      },
      "execution_count": 92,
      "outputs": [
        {
          "output_type": "stream",
          "name": "stdout",
          "text": [
            "16\n",
            "25\n"
          ]
        }
      ]
    },
    {
      "cell_type": "code",
      "source": [
        "my_sum = lambda a, b: a + b\n",
        "\n",
        "print(my_sum(4, 5))\n",
        "print(my_sum(5, 6))"
      ],
      "metadata": {
        "colab": {
          "base_uri": "https://localhost:8080/"
        },
        "id": "1WeBqLjfZ_mt",
        "outputId": "9128a07d-ecac-4417-dad0-2384285111fa"
      },
      "execution_count": 93,
      "outputs": [
        {
          "output_type": "stream",
          "name": "stdout",
          "text": [
            "9\n",
            "11\n"
          ]
        }
      ]
    },
    {
      "cell_type": "markdown",
      "source": [
        "Определение лямбды не включает оператор `return`, а всегда содержит возвращенное выражение. Мы также можем поместить определение лямбды в любое место, где ожидается функция, и нам не нужно присваивать его переменной.\n",
        "\n",
        "Их часто удобно использовать как аргумент функции высшего порядка (функции, которая принимает другие функции в качестве аргументов). Например, в `map()`, `sorted()` и других!"
      ],
      "metadata": {
        "id": "IiEwjbfnasUS"
      }
    },
    {
      "cell_type": "code",
      "source": [
        "current_list = [1, 3, 4, 6, 10, 11, 15, 12, 14]\n",
        "\n",
        "new_list_1 = list(map(float , current_list))\n",
        "\n",
        "print(new_list_1)"
      ],
      "metadata": {
        "colab": {
          "base_uri": "https://localhost:8080/"
        },
        "id": "pU_JmuObbQPk",
        "outputId": "72b293bb-72d4-4ffc-8562-bc4d950c318c"
      },
      "execution_count": 98,
      "outputs": [
        {
          "output_type": "stream",
          "name": "stdout",
          "text": [
            "[1.0, 3.0, 4.0, 6.0, 10.0, 11.0, 15.0, 12.0, 14.0]\n"
          ]
        }
      ]
    },
    {
      "cell_type": "code",
      "source": [
        "new_list_2 = list(map(lambda x: x**2 , current_list))\n",
        "\n",
        "print(new_list_2)\n",
        "\n",
        "# то же самое, что и\n",
        "# def square(x: int) -> int:\n",
        "#     return x ** 2\n",
        "# print(list(map(square, values)))"
      ],
      "metadata": {
        "colab": {
          "base_uri": "https://localhost:8080/"
        },
        "id": "PUSGng2GbXWd",
        "outputId": "beb6efd4-f4d1-4fe7-dc87-59358ada8c39"
      },
      "execution_count": 100,
      "outputs": [
        {
          "output_type": "stream",
          "name": "stdout",
          "text": [
            "[1, 9, 16, 36, 100, 121, 225, 144, 196]\n"
          ]
        }
      ]
    },
    {
      "cell_type": "markdown",
      "source": [
        "Мы уже говорили про сортировку списков, но говорили лишь вскользь, что ей можно задать кастомный ключ сравнения через функции."
      ],
      "metadata": {
        "id": "j-ljrG6hZCiz"
      }
    },
    {
      "cell_type": "code",
      "source": [
        "list_of_tuples = [('IT_VLAN', 320), ('Mngmt_VLAN', 99), ('User_VLAN', 1010), ('DB_VLAN', 11)]\n",
        "\n",
        "sorted(list_of_tuples, key=lambda x: x[1])\n",
        "\n",
        "# то же самое, что и\n",
        "# from operator import itemgetter\n",
        "# sorted(list_of_tuples, key=itemgetter(1))"
      ],
      "metadata": {
        "colab": {
          "base_uri": "https://localhost:8080/"
        },
        "id": "7cs9pfUmbtxF",
        "outputId": "53b34d97-9276-46f1-d2b0-209c16a0ec4c"
      },
      "execution_count": 111,
      "outputs": [
        {
          "output_type": "execute_result",
          "data": {
            "text/plain": [
              "[('DB_VLAN', 11), ('Mngmt_VLAN', 99), ('IT_VLAN', 320), ('User_VLAN', 1010)]"
            ]
          },
          "metadata": {},
          "execution_count": 111
        }
      ]
    },
    {
      "cell_type": "code",
      "source": [
        "values = [\"abcd\", \"aab\", \"bda\", \"0xabadbabe\", \"0xdeadbeef\"]\n",
        "\n",
        "sorted(values, key=lambda s: len(s))  # все то же самое далее можно делать и с values.sort()\n",
        "\n",
        "# то же самое, что и\n",
        "# sorted(values, key=len)"
      ],
      "metadata": {
        "colab": {
          "base_uri": "https://localhost:8080/"
        },
        "id": "cJmDk1TQZz04",
        "outputId": "9f0fa699-bd35-4f95-c603-f4bfa460b8fd"
      },
      "execution_count": 116,
      "outputs": [
        {
          "output_type": "execute_result",
          "data": {
            "text/plain": [
              "['aab', 'bda', 'abcd', '0xabadbabe', '0xdeadbeef']"
            ]
          },
          "metadata": {},
          "execution_count": 116
        }
      ]
    },
    {
      "cell_type": "markdown",
      "source": [
        "А как нам сравнивать по нескольким значениям сразу? Например, есть числа, хотим отсортировать их по возрастанию длин, но при равенстве $-$ по убыванию самих чисел."
      ],
      "metadata": {
        "id": "04u1cDbkZ5bc"
      }
    },
    {
      "cell_type": "code",
      "source": [
        "values = [7876510, 678, 456789, 789, 123456]\n",
        "\n",
        "sorted(values, key=lambda num: (len(str(num)), -num))  # кортежи сравниваются поэлементно, поэтому это так и работает"
      ],
      "metadata": {
        "colab": {
          "base_uri": "https://localhost:8080/"
        },
        "id": "foyP73NeWFXN",
        "outputId": "1e587e56-9c82-49af-82f0-78f9e38d8052"
      },
      "execution_count": 114,
      "outputs": [
        {
          "output_type": "execute_result",
          "data": {
            "text/plain": [
              "[789, 678, 456789, 123456, 7876510]"
            ]
          },
          "metadata": {},
          "execution_count": 114
        }
      ]
    },
    {
      "cell_type": "markdown",
      "source": [
        "### Задача №5"
      ],
      "metadata": {
        "id": "H6LmJJdkfYCz"
      }
    },
    {
      "cell_type": "markdown",
      "source": [
        "Напишите лямбда-функцию, которая принимала бы строку и возвращала `True`, если переданный аргумент является числом (целым или с плавающей точкой) и `False` в противном случае."
      ],
      "metadata": {
        "id": "mApwGIHTfboI"
      }
    },
    {
      "cell_type": "code",
      "source": [
        "# ваш код туть"
      ],
      "metadata": {
        "id": "WQGYVc3SZ8Os"
      },
      "execution_count": null,
      "outputs": []
    },
    {
      "cell_type": "markdown",
      "source": [
        "## Еще чуть-чуть практики"
      ],
      "metadata": {
        "id": "APTCzeOtfvZJ"
      }
    },
    {
      "cell_type": "markdown",
      "source": [
        "### Задача №6"
      ],
      "metadata": {
        "id": "YroCovPIeFPM"
      }
    },
    {
      "cell_type": "markdown",
      "source": [
        "Напишите функцию `vowels()`, которая получает название файла (он должен находиться в той же папке, что и запускаемый код, поэтому будет достаточно просто прочитать файл по передаваемому названию).\n",
        "    \n",
        "Верните количество гласных и согласных букв в этом файле. Предполагается, что файл будет либо на русском, либо на английском языке."
      ],
      "metadata": {
        "id": "u8Sp3biReIlO"
      }
    },
    {
      "cell_type": "code",
      "source": [
        "# ваш код туть"
      ],
      "metadata": {
        "id": "EqXyZ1_reIAD"
      },
      "execution_count": 123,
      "outputs": []
    },
    {
      "cell_type": "markdown",
      "source": [
        "### Задача №7"
      ],
      "metadata": {
        "id": "AHl8fD9LecuP"
      }
    },
    {
      "cell_type": "markdown",
      "source": [
        "Все, надеюсь, помнят, что в словаре легко можно найти значение по ключу, но не ключ по значению (что логично, так как это соответствие может не быть уникальным).\n",
        "Напишите функцию `find_key()`, которая принимает на вход словарь и значение из этого словаря и возвращает ключ для данного значения. Если их несколько, вернуть кортеж ключей."
      ],
      "metadata": {
        "id": "OHIm86LdefdR"
      }
    },
    {
      "cell_type": "code",
      "source": [
        "# ваш код туть"
      ],
      "metadata": {
        "id": "AaEeK4BueWtc"
      },
      "execution_count": null,
      "outputs": []
    }
  ]
}